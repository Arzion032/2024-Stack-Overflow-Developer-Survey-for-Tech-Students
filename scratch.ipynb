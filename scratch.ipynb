{
 "cells": [
  {
   "cell_type": "code",
   "execution_count": 1,
   "metadata": {},
   "outputs": [],
   "source": [
    "from viz import graph\n",
    "from pathlib import Path\n",
    "import pandas as pd\n",
    "from filter import cleaners\n",
    "from plotly.subplots import make_subplots\n",
    "import plotly.graph_objects as go\n",
    "import plotly.express as px\n",
    "current_directory = Path.cwd()\n",
    "df = pd.read_csv(current_directory/'data'/'survey_results_public.csv')"
   ]
  },
  {
   "cell_type": "code",
   "execution_count": 2,
   "metadata": {},
   "outputs": [],
   "source": [
    "language = cleaners(df, \"LanguageHaveWorkedWith\") \n",
    "database = cleaners(df, \"DatabaseHaveWorkedWith\")\n",
    "platform = cleaners(df, \"PlatformHaveWorkedWith\")\n",
    "web_framework = cleaners(df, \"WebframeHaveWorkedWith\")\n",
    "development_tools = cleaners(df, \"ToolsTechHaveWorkedWith\")\n",
    "#-------------------------------------------------------------\n",
    "misc = cleaners(df, \"MiscTechHaveWorkedWith\")\n",
    "ai = cleaners(df, \"AISearchDevHaveWorkedWith\")\n",
    "emp = cleaners(df, \"Employment\")"
   ]
  },
  {
   "cell_type": "code",
   "execution_count": 3,
   "metadata": {},
   "outputs": [],
   "source": [
    "emp = cleaners(df, \"Employment\")"
   ]
  },
  {
   "cell_type": "code",
   "execution_count": null,
   "metadata": {},
   "outputs": [],
   "source": []
  },
  {
   "cell_type": "code",
   "execution_count": 4,
   "metadata": {},
   "outputs": [
    {
     "data": {
      "application/vnd.plotly.v1+json": {
       "config": {
        "plotlyServerURL": "https://plot.ly"
       },
       "data": [
        {
         "alignmentgroup": "True",
         "customdata": [
          [
           6.24
          ],
          [
           13.56
          ],
          [
           13.94
          ],
          [
           18.33
          ],
          [
           20.39
          ],
          [
           23.14
          ],
          [
           27.31
          ],
          [
           30.53
          ],
          [
           34.17
          ],
          [
           38.75
          ],
          [
           39.09
          ],
          [
           51.35
          ],
          [
           51.42
          ],
          [
           53.25
          ],
          [
           62.75
          ]
         ],
         "hoverlabel": {
          "font": {
           "family": "Walahi",
           "size": 16
          }
         },
         "hovertemplate": "<span style=\"font-size:18px;\">%{y}</span><br>Count : %{x}<br>Avg : %{customdata[0]}%",
         "legendgroup": "",
         "marker": {
          "color": "#cb181d",
          "coloraxis": "coloraxis",
          "pattern": {
           "shape": ""
          }
         },
         "name": "",
         "offsetgroup": "",
         "orientation": "h",
         "showlegend": false,
         "text": [
          3728,
          8103,
          8328,
          10951,
          12184,
          13827,
          16318,
          18239,
          20412,
          23150,
          23352,
          30682,
          30719,
          31816,
          37492
         ],
         "textfont": {
          "color": "black",
          "size": 14
         },
         "textposition": "outside",
         "type": "bar",
         "x": [
          3728,
          8103,
          8328,
          10951,
          12184,
          13827,
          16318,
          18239,
          20412,
          23150,
          23352,
          30682,
          30719,
          31816,
          37492
         ],
         "xaxis": "x",
         "y": [
          "Lua",
          "Go",
          "PowerShell",
          "PHP",
          "C",
          "C++",
          "C#",
          "Java",
          "Bash/Shell",
          "TypeScript",
          "ConvertedCompYearly",
          "SQL",
          "Python",
          "HTML/CSS",
          "JavaScript"
         ],
         "yaxis": "y"
        },
        {
         "alignmentgroup": "True",
         "customdata": [
          [
           4.13
          ],
          [
           4.36
          ],
          [
           5.66
          ],
          [
           6.01
          ],
          [
           8.23
          ],
          [
           10.49
          ],
          [
           13
          ],
          [
           17.89
          ],
          [
           20.82
          ],
          [
           25.88
          ],
          [
           26.42
          ],
          [
           34.55
          ],
          [
           40.77
          ],
          [
           41.98
          ],
          [
           50.81
          ]
         ],
         "hoverlabel": {
          "font": {
           "family": "Walahi",
           "size": 16
          }
         },
         "hovertemplate": "<span style=\"font-size:18px;\">%{y}</span><br>Count : %{x}<br>Avg : %{customdata[0]}%",
         "legendgroup": "",
         "marker": {
          "color": "#ef3b2c",
          "coloraxis": "coloraxis",
          "pattern": {
           "shape": ""
          }
         },
         "name": "",
         "offsetgroup": "",
         "orientation": "h",
         "showlegend": false,
         "text": [
          2078,
          2193,
          2842,
          3018,
          4138,
          5273,
          6533,
          8991,
          10463,
          13007,
          13275,
          17365,
          20487,
          21099,
          25536
         ],
         "textfont": {
          "color": "black",
          "size": 14
         },
         "textposition": "outside",
         "type": "bar",
         "x": [
          2078,
          2193,
          2842,
          3018,
          4138,
          5273,
          6533,
          8991,
          10463,
          13007,
          13275,
          17365,
          20487,
          21099,
          25536
         ],
         "xaxis": "x2",
         "y": [
          "Supabase",
          "MS Acsess",
          "Cloud Firestore",
          "Firebase RTDB",
          "Dynamodb",
          "Oracle",
          "Elasticsearch",
          "MariaDB",
          "Redis",
          "MongoDB",
          "MS SQL Server",
          "SQLite",
          "ConvertedCompYearly",
          "MySQL",
          "PostgreSQL"
         ],
         "yaxis": "y2"
        },
        {
         "alignmentgroup": "True",
         "customdata": [
          [
           1.8
          ],
          [
           5.08
          ],
          [
           5.27
          ],
          [
           7.29
          ],
          [
           12.65
          ],
          [
           12.92
          ],
          [
           13.87
          ],
          [
           18.13
          ],
          [
           18.39
          ],
          [
           19.07
          ],
          [
           19.22
          ],
          [
           22.99
          ],
          [
           40.82
          ],
          [
           42.44
          ],
          [
           43.78
          ]
         ],
         "hoverlabel": {
          "font": {
           "family": "Walahi",
           "size": 16
          }
         },
         "hovertemplate": "<span style=\"font-size:18px;\">%{y}</span><br>Count : %{x}<br>Avg : %{customdata[0]}%",
         "legendgroup": "",
         "marker": {
          "color": "#fb6a4a",
          "coloraxis": "coloraxis",
          "pattern": {
           "shape": ""
          }
         },
         "name": "",
         "offsetgroup": "",
         "orientation": "h",
         "showlegend": false,
         "text": [
          812,
          2294,
          2378,
          3292,
          5711,
          5835,
          6265,
          8187,
          8306,
          8614,
          8681,
          10381,
          18435,
          19167,
          19772
         ],
         "textfont": {
          "color": "black",
          "size": 14
         },
         "textposition": "outside",
         "type": "bar",
         "x": [
          812,
          2294,
          2378,
          3292,
          5711,
          5835,
          6265,
          8187,
          8306,
          8614,
          8681,
          10381,
          18435,
          19167,
          19772
         ],
         "xaxis": "x3",
         "y": [
          "CodeIgniter",
          "Ruby on Rails",
          "Blazor",
          "AngularJS",
          "WordPress",
          "Django",
          "ASP.NET",
          "ASP.NET CORE",
          "Angular",
          "Express",
          "Next.js",
          "jQuery",
          "ConvertedCompYearly",
          "React",
          "Node.js"
         ],
         "yaxis": "y3"
        },
        {
         "alignmentgroup": "True",
         "customdata": [
          [
           2.17
          ],
          [
           2.81
          ],
          [
           3.14
          ],
          [
           5.43
          ],
          [
           7.18
          ],
          [
           7.64
          ],
          [
           8.96
          ],
          [
           12.77
          ],
          [
           12.96
          ],
          [
           15.21
          ],
          [
           16.46
          ],
          [
           27.39
          ],
          [
           30.33
          ],
          [
           42.21
          ],
          [
           52.38
          ]
         ],
         "hoverlabel": {
          "font": {
           "family": "Walahi",
           "size": 16
          }
         },
         "hovertemplate": "<span style=\"font-size:18px;\">%{y}</span><br>Count : %{x}<br>Avg : %{customdata[0]}%",
         "legendgroup": "",
         "marker": {
          "color": "#fc9272",
          "coloraxis": "coloraxis",
          "pattern": {
           "shape": ""
          }
         },
         "name": "",
         "offsetgroup": "",
         "orientation": "h",
         "showlegend": false,
         "text": [
          918,
          1189,
          1332,
          2301,
          3043,
          3238,
          3798,
          5409,
          5491,
          6443,
          6974,
          11605,
          12850,
          17881,
          22191
         ],
         "textfont": {
          "color": "black",
          "size": 14
         },
         "textposition": "outside",
         "type": "bar",
         "x": [
          918,
          1189,
          1332,
          2301,
          3043,
          3238,
          3798,
          5409,
          5491,
          6443,
          6974,
          11605,
          12850,
          17881,
          22191
         ],
         "xaxis": "x4",
         "y": [
          "Databricks",
          "Fly.io",
          "Oracle Cloud",
          "Hetzner",
          "VMware",
          "Netlify",
          "Heroku",
          "Digital Ocean",
          "Vercel",
          "Firebase",
          "Cloudflare",
          "Google Cloud",
          "Microsoft Azure",
          "ConvertedCompYearly",
          "Amazon Web Services"
         ],
         "yaxis": "y4"
        }
       ],
       "layout": {
        "annotations": [
         {
          "font": {
           "size": 16
          },
          "showarrow": false,
          "text": "databases",
          "x": 0.225,
          "xanchor": "center",
          "xref": "paper",
          "y": 1,
          "yanchor": "bottom",
          "yref": "paper"
         },
         {
          "font": {
           "size": 16
          },
          "showarrow": false,
          "text": "Databases",
          "x": 0.775,
          "xanchor": "center",
          "xref": "paper",
          "y": 1,
          "yanchor": "bottom",
          "yref": "paper"
         },
         {
          "font": {
           "size": 16
          },
          "showarrow": false,
          "text": "Web Frameworks",
          "x": 0.225,
          "xanchor": "center",
          "xref": "paper",
          "y": 0.46,
          "yanchor": "bottom",
          "yref": "paper"
         },
         {
          "font": {
           "size": 16
          },
          "showarrow": false,
          "text": "Platforms",
          "x": 0.775,
          "xanchor": "center",
          "xref": "paper",
          "y": 0.46,
          "yanchor": "bottom",
          "yref": "paper"
         }
        ],
        "height": 1000,
        "template": {
         "data": {
          "bar": [
           {
            "error_x": {
             "color": "#2a3f5f"
            },
            "error_y": {
             "color": "#2a3f5f"
            },
            "marker": {
             "line": {
              "color": "#E5ECF6",
              "width": 0.5
             },
             "pattern": {
              "fillmode": "overlay",
              "size": 10,
              "solidity": 0.2
             }
            },
            "type": "bar"
           }
          ],
          "barpolar": [
           {
            "marker": {
             "line": {
              "color": "#E5ECF6",
              "width": 0.5
             },
             "pattern": {
              "fillmode": "overlay",
              "size": 10,
              "solidity": 0.2
             }
            },
            "type": "barpolar"
           }
          ],
          "carpet": [
           {
            "aaxis": {
             "endlinecolor": "#2a3f5f",
             "gridcolor": "white",
             "linecolor": "white",
             "minorgridcolor": "white",
             "startlinecolor": "#2a3f5f"
            },
            "baxis": {
             "endlinecolor": "#2a3f5f",
             "gridcolor": "white",
             "linecolor": "white",
             "minorgridcolor": "white",
             "startlinecolor": "#2a3f5f"
            },
            "type": "carpet"
           }
          ],
          "choropleth": [
           {
            "colorbar": {
             "outlinewidth": 0,
             "ticks": ""
            },
            "type": "choropleth"
           }
          ],
          "contour": [
           {
            "colorbar": {
             "outlinewidth": 0,
             "ticks": ""
            },
            "colorscale": [
             [
              0,
              "#0d0887"
             ],
             [
              0.1111111111111111,
              "#46039f"
             ],
             [
              0.2222222222222222,
              "#7201a8"
             ],
             [
              0.3333333333333333,
              "#9c179e"
             ],
             [
              0.4444444444444444,
              "#bd3786"
             ],
             [
              0.5555555555555556,
              "#d8576b"
             ],
             [
              0.6666666666666666,
              "#ed7953"
             ],
             [
              0.7777777777777778,
              "#fb9f3a"
             ],
             [
              0.8888888888888888,
              "#fdca26"
             ],
             [
              1,
              "#f0f921"
             ]
            ],
            "type": "contour"
           }
          ],
          "contourcarpet": [
           {
            "colorbar": {
             "outlinewidth": 0,
             "ticks": ""
            },
            "type": "contourcarpet"
           }
          ],
          "heatmap": [
           {
            "colorbar": {
             "outlinewidth": 0,
             "ticks": ""
            },
            "colorscale": [
             [
              0,
              "#0d0887"
             ],
             [
              0.1111111111111111,
              "#46039f"
             ],
             [
              0.2222222222222222,
              "#7201a8"
             ],
             [
              0.3333333333333333,
              "#9c179e"
             ],
             [
              0.4444444444444444,
              "#bd3786"
             ],
             [
              0.5555555555555556,
              "#d8576b"
             ],
             [
              0.6666666666666666,
              "#ed7953"
             ],
             [
              0.7777777777777778,
              "#fb9f3a"
             ],
             [
              0.8888888888888888,
              "#fdca26"
             ],
             [
              1,
              "#f0f921"
             ]
            ],
            "type": "heatmap"
           }
          ],
          "heatmapgl": [
           {
            "colorbar": {
             "outlinewidth": 0,
             "ticks": ""
            },
            "colorscale": [
             [
              0,
              "#0d0887"
             ],
             [
              0.1111111111111111,
              "#46039f"
             ],
             [
              0.2222222222222222,
              "#7201a8"
             ],
             [
              0.3333333333333333,
              "#9c179e"
             ],
             [
              0.4444444444444444,
              "#bd3786"
             ],
             [
              0.5555555555555556,
              "#d8576b"
             ],
             [
              0.6666666666666666,
              "#ed7953"
             ],
             [
              0.7777777777777778,
              "#fb9f3a"
             ],
             [
              0.8888888888888888,
              "#fdca26"
             ],
             [
              1,
              "#f0f921"
             ]
            ],
            "type": "heatmapgl"
           }
          ],
          "histogram": [
           {
            "marker": {
             "pattern": {
              "fillmode": "overlay",
              "size": 10,
              "solidity": 0.2
             }
            },
            "type": "histogram"
           }
          ],
          "histogram2d": [
           {
            "colorbar": {
             "outlinewidth": 0,
             "ticks": ""
            },
            "colorscale": [
             [
              0,
              "#0d0887"
             ],
             [
              0.1111111111111111,
              "#46039f"
             ],
             [
              0.2222222222222222,
              "#7201a8"
             ],
             [
              0.3333333333333333,
              "#9c179e"
             ],
             [
              0.4444444444444444,
              "#bd3786"
             ],
             [
              0.5555555555555556,
              "#d8576b"
             ],
             [
              0.6666666666666666,
              "#ed7953"
             ],
             [
              0.7777777777777778,
              "#fb9f3a"
             ],
             [
              0.8888888888888888,
              "#fdca26"
             ],
             [
              1,
              "#f0f921"
             ]
            ],
            "type": "histogram2d"
           }
          ],
          "histogram2dcontour": [
           {
            "colorbar": {
             "outlinewidth": 0,
             "ticks": ""
            },
            "colorscale": [
             [
              0,
              "#0d0887"
             ],
             [
              0.1111111111111111,
              "#46039f"
             ],
             [
              0.2222222222222222,
              "#7201a8"
             ],
             [
              0.3333333333333333,
              "#9c179e"
             ],
             [
              0.4444444444444444,
              "#bd3786"
             ],
             [
              0.5555555555555556,
              "#d8576b"
             ],
             [
              0.6666666666666666,
              "#ed7953"
             ],
             [
              0.7777777777777778,
              "#fb9f3a"
             ],
             [
              0.8888888888888888,
              "#fdca26"
             ],
             [
              1,
              "#f0f921"
             ]
            ],
            "type": "histogram2dcontour"
           }
          ],
          "mesh3d": [
           {
            "colorbar": {
             "outlinewidth": 0,
             "ticks": ""
            },
            "type": "mesh3d"
           }
          ],
          "parcoords": [
           {
            "line": {
             "colorbar": {
              "outlinewidth": 0,
              "ticks": ""
             }
            },
            "type": "parcoords"
           }
          ],
          "pie": [
           {
            "automargin": true,
            "type": "pie"
           }
          ],
          "scatter": [
           {
            "fillpattern": {
             "fillmode": "overlay",
             "size": 10,
             "solidity": 0.2
            },
            "type": "scatter"
           }
          ],
          "scatter3d": [
           {
            "line": {
             "colorbar": {
              "outlinewidth": 0,
              "ticks": ""
             }
            },
            "marker": {
             "colorbar": {
              "outlinewidth": 0,
              "ticks": ""
             }
            },
            "type": "scatter3d"
           }
          ],
          "scattercarpet": [
           {
            "marker": {
             "colorbar": {
              "outlinewidth": 0,
              "ticks": ""
             }
            },
            "type": "scattercarpet"
           }
          ],
          "scattergeo": [
           {
            "marker": {
             "colorbar": {
              "outlinewidth": 0,
              "ticks": ""
             }
            },
            "type": "scattergeo"
           }
          ],
          "scattergl": [
           {
            "marker": {
             "colorbar": {
              "outlinewidth": 0,
              "ticks": ""
             }
            },
            "type": "scattergl"
           }
          ],
          "scattermapbox": [
           {
            "marker": {
             "colorbar": {
              "outlinewidth": 0,
              "ticks": ""
             }
            },
            "type": "scattermapbox"
           }
          ],
          "scatterpolar": [
           {
            "marker": {
             "colorbar": {
              "outlinewidth": 0,
              "ticks": ""
             }
            },
            "type": "scatterpolar"
           }
          ],
          "scatterpolargl": [
           {
            "marker": {
             "colorbar": {
              "outlinewidth": 0,
              "ticks": ""
             }
            },
            "type": "scatterpolargl"
           }
          ],
          "scatterternary": [
           {
            "marker": {
             "colorbar": {
              "outlinewidth": 0,
              "ticks": ""
             }
            },
            "type": "scatterternary"
           }
          ],
          "surface": [
           {
            "colorbar": {
             "outlinewidth": 0,
             "ticks": ""
            },
            "colorscale": [
             [
              0,
              "#0d0887"
             ],
             [
              0.1111111111111111,
              "#46039f"
             ],
             [
              0.2222222222222222,
              "#7201a8"
             ],
             [
              0.3333333333333333,
              "#9c179e"
             ],
             [
              0.4444444444444444,
              "#bd3786"
             ],
             [
              0.5555555555555556,
              "#d8576b"
             ],
             [
              0.6666666666666666,
              "#ed7953"
             ],
             [
              0.7777777777777778,
              "#fb9f3a"
             ],
             [
              0.8888888888888888,
              "#fdca26"
             ],
             [
              1,
              "#f0f921"
             ]
            ],
            "type": "surface"
           }
          ],
          "table": [
           {
            "cells": {
             "fill": {
              "color": "#EBF0F8"
             },
             "line": {
              "color": "white"
             }
            },
            "header": {
             "fill": {
              "color": "#C8D4E3"
             },
             "line": {
              "color": "white"
             }
            },
            "type": "table"
           }
          ]
         },
         "layout": {
          "annotationdefaults": {
           "arrowcolor": "#2a3f5f",
           "arrowhead": 0,
           "arrowwidth": 1
          },
          "autotypenumbers": "strict",
          "coloraxis": {
           "colorbar": {
            "outlinewidth": 0,
            "ticks": ""
           }
          },
          "colorscale": {
           "diverging": [
            [
             0,
             "#8e0152"
            ],
            [
             0.1,
             "#c51b7d"
            ],
            [
             0.2,
             "#de77ae"
            ],
            [
             0.3,
             "#f1b6da"
            ],
            [
             0.4,
             "#fde0ef"
            ],
            [
             0.5,
             "#f7f7f7"
            ],
            [
             0.6,
             "#e6f5d0"
            ],
            [
             0.7,
             "#b8e186"
            ],
            [
             0.8,
             "#7fbc41"
            ],
            [
             0.9,
             "#4d9221"
            ],
            [
             1,
             "#276419"
            ]
           ],
           "sequential": [
            [
             0,
             "#0d0887"
            ],
            [
             0.1111111111111111,
             "#46039f"
            ],
            [
             0.2222222222222222,
             "#7201a8"
            ],
            [
             0.3333333333333333,
             "#9c179e"
            ],
            [
             0.4444444444444444,
             "#bd3786"
            ],
            [
             0.5555555555555556,
             "#d8576b"
            ],
            [
             0.6666666666666666,
             "#ed7953"
            ],
            [
             0.7777777777777778,
             "#fb9f3a"
            ],
            [
             0.8888888888888888,
             "#fdca26"
            ],
            [
             1,
             "#f0f921"
            ]
           ],
           "sequentialminus": [
            [
             0,
             "#0d0887"
            ],
            [
             0.1111111111111111,
             "#46039f"
            ],
            [
             0.2222222222222222,
             "#7201a8"
            ],
            [
             0.3333333333333333,
             "#9c179e"
            ],
            [
             0.4444444444444444,
             "#bd3786"
            ],
            [
             0.5555555555555556,
             "#d8576b"
            ],
            [
             0.6666666666666666,
             "#ed7953"
            ],
            [
             0.7777777777777778,
             "#fb9f3a"
            ],
            [
             0.8888888888888888,
             "#fdca26"
            ],
            [
             1,
             "#f0f921"
            ]
           ]
          },
          "colorway": [
           "#636efa",
           "#EF553B",
           "#00cc96",
           "#ab63fa",
           "#FFA15A",
           "#19d3f3",
           "#FF6692",
           "#B6E880",
           "#FF97FF",
           "#FECB52"
          ],
          "font": {
           "color": "#2a3f5f"
          },
          "geo": {
           "bgcolor": "white",
           "lakecolor": "white",
           "landcolor": "#E5ECF6",
           "showlakes": true,
           "showland": true,
           "subunitcolor": "white"
          },
          "hoverlabel": {
           "align": "left"
          },
          "hovermode": "closest",
          "mapbox": {
           "style": "light"
          },
          "paper_bgcolor": "white",
          "plot_bgcolor": "#E5ECF6",
          "polar": {
           "angularaxis": {
            "gridcolor": "white",
            "linecolor": "white",
            "ticks": ""
           },
           "bgcolor": "#E5ECF6",
           "radialaxis": {
            "gridcolor": "white",
            "linecolor": "white",
            "ticks": ""
           }
          },
          "scene": {
           "xaxis": {
            "backgroundcolor": "#E5ECF6",
            "gridcolor": "white",
            "gridwidth": 2,
            "linecolor": "white",
            "showbackground": true,
            "ticks": "",
            "zerolinecolor": "white"
           },
           "yaxis": {
            "backgroundcolor": "#E5ECF6",
            "gridcolor": "white",
            "gridwidth": 2,
            "linecolor": "white",
            "showbackground": true,
            "ticks": "",
            "zerolinecolor": "white"
           },
           "zaxis": {
            "backgroundcolor": "#E5ECF6",
            "gridcolor": "white",
            "gridwidth": 2,
            "linecolor": "white",
            "showbackground": true,
            "ticks": "",
            "zerolinecolor": "white"
           }
          },
          "shapedefaults": {
           "line": {
            "color": "#2a3f5f"
           }
          },
          "ternary": {
           "aaxis": {
            "gridcolor": "white",
            "linecolor": "white",
            "ticks": ""
           },
           "baxis": {
            "gridcolor": "white",
            "linecolor": "white",
            "ticks": ""
           },
           "bgcolor": "#E5ECF6",
           "caxis": {
            "gridcolor": "white",
            "linecolor": "white",
            "ticks": ""
           }
          },
          "title": {
           "x": 0.05
          },
          "xaxis": {
           "automargin": true,
           "gridcolor": "white",
           "linecolor": "white",
           "ticks": "",
           "title": {
            "standoff": 15
           },
           "zerolinecolor": "white",
           "zerolinewidth": 2
          },
          "yaxis": {
           "automargin": true,
           "gridcolor": "white",
           "linecolor": "white",
           "ticks": "",
           "title": {
            "standoff": 15
           },
           "zerolinecolor": "white",
           "zerolinewidth": 2
          }
         }
        },
        "title": {
         "text": "Combined Subplots"
        },
        "width": 1850,
        "xaxis": {
         "anchor": "y",
         "domain": [
          0,
          0.45
         ]
        },
        "xaxis2": {
         "anchor": "y2",
         "domain": [
          0.55,
          1
         ]
        },
        "xaxis3": {
         "anchor": "y3",
         "domain": [
          0,
          0.45
         ]
        },
        "xaxis4": {
         "anchor": "y4",
         "domain": [
          0.55,
          1
         ]
        },
        "yaxis": {
         "anchor": "x",
         "domain": [
          0.54,
          1
         ]
        },
        "yaxis2": {
         "anchor": "x2",
         "domain": [
          0.54,
          1
         ]
        },
        "yaxis3": {
         "anchor": "x3",
         "domain": [
          0,
          0.46
         ]
        },
        "yaxis4": {
         "anchor": "x4",
         "domain": [
          0,
          0.46
         ]
        }
       }
      }
     },
     "metadata": {},
     "output_type": "display_data"
    }
   ],
   "source": [
    "fig1 = graph(language,type=\"language\",n=15)\n",
    "fig2 = graph(database,type=\"database\",n=15)\n",
    "fig3 = graph(web_framework,type=\"webframe\",n=15)\n",
    "fig4 = graph(platform,type=\"webframe\",n=15)\n",
    "\n",
    "combined_fig = make_subplots(rows=2, cols=2, subplot_titles=[\"databases\", \"Databases\", \"Web Frameworks\",\"Platforms\"],  vertical_spacing=0.08)\n",
    "combined_fig.update_layout(\n",
    "    width=1850,  \n",
    "    height=1000,\n",
    "    title_text=\"Combined Subplots\"\n",
    ")\n",
    "or_rd_colors = px.colors.sequential.OrRd\n",
    "def add_figure_to_subplot(fig, row, col, colors):\n",
    " \n",
    "    \n",
    "    for trace, color in zip(fig.data, colors):\n",
    "        trace.update(marker_color=color)  \n",
    "        combined_fig.add_trace(trace, row=row, col=col)\n",
    "\n",
    "# \n",
    "add_figure_to_subplot(fig1, row=1, col=1, colors=[\"#cb181d\"])\n",
    "add_figure_to_subplot(fig2, row=1, col=2, colors=[\"#ef3b2c\"])\n",
    "add_figure_to_subplot(fig3, row=2, col=1, colors=[\"#fb6a4a\"])\n",
    "add_figure_to_subplot(fig4, row=2, col=2, colors=[\"#fc9272\"])\n",
    "\n",
    "combined_fig.show()"
   ]
  },
  {
   "cell_type": "code",
   "execution_count": 5,
   "metadata": {},
   "outputs": [],
   "source": [
    "\n",
    "bar_graph = ai.copy()\n",
    "num_records = bar_graph.shape[0]\n",
    "\n",
    "columns_to_drop = [\"Unnamed: 0\", \"ResponseId\", \"DevType\", \"Country\"]\n",
    "bar_graph = bar_graph.drop(columns = bar_graph.columns.intersection(columns_to_drop))\n",
    "bar_graph = bar_graph.count().reset_index()\n",
    "bar_graph.columns = ['Language', 'Value']\n",
    "bar_graph[\"Avg\"] = round((bar_graph[\"Value\"] / num_records) * 100, 2)\n",
    "bar_graph = bar_graph.sort_values(by=\"Value\",ascending=False)\n",
    "bar_graph = bar_graph.head(7)\n",
    "bar_graph.set_index('Language', inplace=True)"
   ]
  },
  {
   "cell_type": "code",
   "execution_count": 6,
   "metadata": {},
   "outputs": [],
   "source": [
    "development_jobs = [\n",
    "        \"Developer, full-stack\",\n",
    "        \"Developer, back-end\",\n",
    "        \"Developer, front-end\",\n",
    "        \"Developer, desktop or enterprise applications\",\n",
    "        \"Developer, mobile\",\n",
    "        \"Developer, game or graphics\",\n",
    "        \"Developer, embedded applications or devices\",\n",
    "        \"Developer, QA or test\",\n",
    "        \"Blockchain\",\n",
    "        \"Developer Experience\",\n",
    "        \"Developer Advocate\"\n",
    "        ]\n",
    "\n",
    "data_ml_jobs = [\n",
    "        \"Data scientist or machine learning specialist\",\n",
    "        \"Data or business analyst\",\n",
    "        \"Data engineer\",\n",
    "        \"Database administrator\",\n",
    "        \"Developer, AI\",\n",
    "        \"Marketing or sales professional\",\n",
    "        \"Developer, AI\"\n",
    "        ]\n",
    "\n",
    "q1_df = df.dropna(subset=\"DevType\")\n",
    "\n",
    "dev_peeps = q1_df[q1_df[\"DevType\"].isin(development_jobs)]\n",
    "data_peeps = q1_df[q1_df[\"DevType\"].isin(data_ml_jobs)]\n"
   ]
  },
  {
   "cell_type": "code",
   "execution_count": 7,
   "metadata": {},
   "outputs": [],
   "source": [
    "dev_lang = cleaners(dev_peeps, \"LanguageHaveWorkedWith\",dash=False)\n",
    "dev_dbase = cleaners(dev_peeps, \"DatabaseHaveWorkedWith\",dash=False)\n",
    "dev_wframe = cleaners(dev_peeps, \"WebframeHaveWorkedWith\",dash=False)\n",
    "\n",
    "data_lang = cleaners(data_peeps, \"LanguageHaveWorkedWith\",dash=False)\n",
    "data_dbase = cleaners(data_peeps, \"DatabaseHaveWorkedWith\",dash=False)\n",
    "data_misc = cleaners(data_peeps, \"MiscTechHaveWorkedWith\",dash=False)\n"
   ]
  },
  {
   "cell_type": "code",
   "execution_count": 8,
   "metadata": {},
   "outputs": [],
   "source": [
    "data_misc =  data_misc.sum().reset_index()\n",
    "data_misc.columns = ['Language', 'Value']\n",
    "data_misc[\"Type\"] = \"Framework\"\n",
    "data_misc=data_misc.sort_values(by=\"Value\",ascending=False).head(3)\n",
    "\n",
    "data_lang =  data_lang.sum().reset_index()\n",
    "data_lang.columns = ['Language', 'Value']\n",
    "data_lang[\"Type\"] = \"Language\"\n",
    "data_lang=data_lang.sort_values(by=\"Value\",ascending=False).head(3)\n",
    "\n",
    "data_dbase =  data_dbase.sum().reset_index()\n",
    "data_dbase.columns = ['Language', 'Value']\n",
    "data_dbase[\"Type\"] = \"Database\"\n",
    "data_dbase=data_dbase.sort_values(by=\"Value\",ascending=False).head(3)"
   ]
  },
  {
   "cell_type": "code",
   "execution_count": 9,
   "metadata": {},
   "outputs": [],
   "source": [
    "dev_wframe = dev_wframe.sum().reset_index()\n",
    "dev_wframe.columns = ['Language', 'Value']\n",
    "dev_wframe[\"Type\"] = \"Framework\"\n",
    "dev_wframe = dev_wframe.sort_values(by=\"Value\", ascending=False).head(3)\n",
    "\n",
    "dev_lang = dev_lang.sum().reset_index()\n",
    "dev_lang.columns = ['Language', 'Value']\n",
    "dev_lang[\"Type\"] = \"Language\"\n",
    "dev_lang = dev_lang.sort_values(by=\"Value\", ascending=False).head(3)\n",
    "\n",
    "dev_dbase = dev_dbase.sum().reset_index()\n",
    "dev_dbase.columns = ['Language', 'Value']\n",
    "dev_dbase[\"Type\"] = \"Database\"\n",
    "dev_dbase = dev_dbase.sort_values(by=\"Value\", ascending=False).head(3)\n"
   ]
  },
  {
   "cell_type": "code",
   "execution_count": 10,
   "metadata": {},
   "outputs": [
    {
     "data": {
      "application/vnd.plotly.v1+json": {
       "config": {
        "plotlyServerURL": "https://plot.ly"
       },
       "data": [
        {
         "marker": {
          "color": "darkred",
          "cornerradius": "30%"
         },
         "name": "Language",
         "type": "bar",
         "x": [
          "Python",
          "SQL",
          "JavaScript"
         ],
         "xaxis": "x",
         "y": [
          2729,
          2224,
          1249
         ],
         "yaxis": "y"
        },
        {
         "marker": {
          "color": "orangered",
          "cornerradius": "30%"
         },
         "name": "Database",
         "type": "bar",
         "x": [
          "PostgreSQL",
          "MySQL",
          "MS SQL Server"
         ],
         "xaxis": "x2",
         "y": [
          1557,
          1043,
          975
         ],
         "yaxis": "y2"
        },
        {
         "marker": {
          "color": "darkorange",
          "cornerradius": "30%"
         },
         "name": "Library",
         "type": "bar",
         "x": [
          "Pandas",
          "NumPy",
          "Scikit-Learn"
         ],
         "xaxis": "x3",
         "y": [
          1904,
          1695,
          1262
         ],
         "yaxis": "y3"
        }
       ],
       "layout": {
        "font": {
         "family": "Arial",
         "size": 12
        },
        "height": 500,
        "template": {
         "data": {
          "bar": [
           {
            "error_x": {
             "color": "#2a3f5f"
            },
            "error_y": {
             "color": "#2a3f5f"
            },
            "marker": {
             "line": {
              "color": "#E5ECF6",
              "width": 0.5
             },
             "pattern": {
              "fillmode": "overlay",
              "size": 10,
              "solidity": 0.2
             }
            },
            "type": "bar"
           }
          ],
          "barpolar": [
           {
            "marker": {
             "line": {
              "color": "#E5ECF6",
              "width": 0.5
             },
             "pattern": {
              "fillmode": "overlay",
              "size": 10,
              "solidity": 0.2
             }
            },
            "type": "barpolar"
           }
          ],
          "carpet": [
           {
            "aaxis": {
             "endlinecolor": "#2a3f5f",
             "gridcolor": "white",
             "linecolor": "white",
             "minorgridcolor": "white",
             "startlinecolor": "#2a3f5f"
            },
            "baxis": {
             "endlinecolor": "#2a3f5f",
             "gridcolor": "white",
             "linecolor": "white",
             "minorgridcolor": "white",
             "startlinecolor": "#2a3f5f"
            },
            "type": "carpet"
           }
          ],
          "choropleth": [
           {
            "colorbar": {
             "outlinewidth": 0,
             "ticks": ""
            },
            "type": "choropleth"
           }
          ],
          "contour": [
           {
            "colorbar": {
             "outlinewidth": 0,
             "ticks": ""
            },
            "colorscale": [
             [
              0,
              "#0d0887"
             ],
             [
              0.1111111111111111,
              "#46039f"
             ],
             [
              0.2222222222222222,
              "#7201a8"
             ],
             [
              0.3333333333333333,
              "#9c179e"
             ],
             [
              0.4444444444444444,
              "#bd3786"
             ],
             [
              0.5555555555555556,
              "#d8576b"
             ],
             [
              0.6666666666666666,
              "#ed7953"
             ],
             [
              0.7777777777777778,
              "#fb9f3a"
             ],
             [
              0.8888888888888888,
              "#fdca26"
             ],
             [
              1,
              "#f0f921"
             ]
            ],
            "type": "contour"
           }
          ],
          "contourcarpet": [
           {
            "colorbar": {
             "outlinewidth": 0,
             "ticks": ""
            },
            "type": "contourcarpet"
           }
          ],
          "heatmap": [
           {
            "colorbar": {
             "outlinewidth": 0,
             "ticks": ""
            },
            "colorscale": [
             [
              0,
              "#0d0887"
             ],
             [
              0.1111111111111111,
              "#46039f"
             ],
             [
              0.2222222222222222,
              "#7201a8"
             ],
             [
              0.3333333333333333,
              "#9c179e"
             ],
             [
              0.4444444444444444,
              "#bd3786"
             ],
             [
              0.5555555555555556,
              "#d8576b"
             ],
             [
              0.6666666666666666,
              "#ed7953"
             ],
             [
              0.7777777777777778,
              "#fb9f3a"
             ],
             [
              0.8888888888888888,
              "#fdca26"
             ],
             [
              1,
              "#f0f921"
             ]
            ],
            "type": "heatmap"
           }
          ],
          "heatmapgl": [
           {
            "colorbar": {
             "outlinewidth": 0,
             "ticks": ""
            },
            "colorscale": [
             [
              0,
              "#0d0887"
             ],
             [
              0.1111111111111111,
              "#46039f"
             ],
             [
              0.2222222222222222,
              "#7201a8"
             ],
             [
              0.3333333333333333,
              "#9c179e"
             ],
             [
              0.4444444444444444,
              "#bd3786"
             ],
             [
              0.5555555555555556,
              "#d8576b"
             ],
             [
              0.6666666666666666,
              "#ed7953"
             ],
             [
              0.7777777777777778,
              "#fb9f3a"
             ],
             [
              0.8888888888888888,
              "#fdca26"
             ],
             [
              1,
              "#f0f921"
             ]
            ],
            "type": "heatmapgl"
           }
          ],
          "histogram": [
           {
            "marker": {
             "pattern": {
              "fillmode": "overlay",
              "size": 10,
              "solidity": 0.2
             }
            },
            "type": "histogram"
           }
          ],
          "histogram2d": [
           {
            "colorbar": {
             "outlinewidth": 0,
             "ticks": ""
            },
            "colorscale": [
             [
              0,
              "#0d0887"
             ],
             [
              0.1111111111111111,
              "#46039f"
             ],
             [
              0.2222222222222222,
              "#7201a8"
             ],
             [
              0.3333333333333333,
              "#9c179e"
             ],
             [
              0.4444444444444444,
              "#bd3786"
             ],
             [
              0.5555555555555556,
              "#d8576b"
             ],
             [
              0.6666666666666666,
              "#ed7953"
             ],
             [
              0.7777777777777778,
              "#fb9f3a"
             ],
             [
              0.8888888888888888,
              "#fdca26"
             ],
             [
              1,
              "#f0f921"
             ]
            ],
            "type": "histogram2d"
           }
          ],
          "histogram2dcontour": [
           {
            "colorbar": {
             "outlinewidth": 0,
             "ticks": ""
            },
            "colorscale": [
             [
              0,
              "#0d0887"
             ],
             [
              0.1111111111111111,
              "#46039f"
             ],
             [
              0.2222222222222222,
              "#7201a8"
             ],
             [
              0.3333333333333333,
              "#9c179e"
             ],
             [
              0.4444444444444444,
              "#bd3786"
             ],
             [
              0.5555555555555556,
              "#d8576b"
             ],
             [
              0.6666666666666666,
              "#ed7953"
             ],
             [
              0.7777777777777778,
              "#fb9f3a"
             ],
             [
              0.8888888888888888,
              "#fdca26"
             ],
             [
              1,
              "#f0f921"
             ]
            ],
            "type": "histogram2dcontour"
           }
          ],
          "mesh3d": [
           {
            "colorbar": {
             "outlinewidth": 0,
             "ticks": ""
            },
            "type": "mesh3d"
           }
          ],
          "parcoords": [
           {
            "line": {
             "colorbar": {
              "outlinewidth": 0,
              "ticks": ""
             }
            },
            "type": "parcoords"
           }
          ],
          "pie": [
           {
            "automargin": true,
            "type": "pie"
           }
          ],
          "scatter": [
           {
            "fillpattern": {
             "fillmode": "overlay",
             "size": 10,
             "solidity": 0.2
            },
            "type": "scatter"
           }
          ],
          "scatter3d": [
           {
            "line": {
             "colorbar": {
              "outlinewidth": 0,
              "ticks": ""
             }
            },
            "marker": {
             "colorbar": {
              "outlinewidth": 0,
              "ticks": ""
             }
            },
            "type": "scatter3d"
           }
          ],
          "scattercarpet": [
           {
            "marker": {
             "colorbar": {
              "outlinewidth": 0,
              "ticks": ""
             }
            },
            "type": "scattercarpet"
           }
          ],
          "scattergeo": [
           {
            "marker": {
             "colorbar": {
              "outlinewidth": 0,
              "ticks": ""
             }
            },
            "type": "scattergeo"
           }
          ],
          "scattergl": [
           {
            "marker": {
             "colorbar": {
              "outlinewidth": 0,
              "ticks": ""
             }
            },
            "type": "scattergl"
           }
          ],
          "scattermapbox": [
           {
            "marker": {
             "colorbar": {
              "outlinewidth": 0,
              "ticks": ""
             }
            },
            "type": "scattermapbox"
           }
          ],
          "scatterpolar": [
           {
            "marker": {
             "colorbar": {
              "outlinewidth": 0,
              "ticks": ""
             }
            },
            "type": "scatterpolar"
           }
          ],
          "scatterpolargl": [
           {
            "marker": {
             "colorbar": {
              "outlinewidth": 0,
              "ticks": ""
             }
            },
            "type": "scatterpolargl"
           }
          ],
          "scatterternary": [
           {
            "marker": {
             "colorbar": {
              "outlinewidth": 0,
              "ticks": ""
             }
            },
            "type": "scatterternary"
           }
          ],
          "surface": [
           {
            "colorbar": {
             "outlinewidth": 0,
             "ticks": ""
            },
            "colorscale": [
             [
              0,
              "#0d0887"
             ],
             [
              0.1111111111111111,
              "#46039f"
             ],
             [
              0.2222222222222222,
              "#7201a8"
             ],
             [
              0.3333333333333333,
              "#9c179e"
             ],
             [
              0.4444444444444444,
              "#bd3786"
             ],
             [
              0.5555555555555556,
              "#d8576b"
             ],
             [
              0.6666666666666666,
              "#ed7953"
             ],
             [
              0.7777777777777778,
              "#fb9f3a"
             ],
             [
              0.8888888888888888,
              "#fdca26"
             ],
             [
              1,
              "#f0f921"
             ]
            ],
            "type": "surface"
           }
          ],
          "table": [
           {
            "cells": {
             "fill": {
              "color": "#EBF0F8"
             },
             "line": {
              "color": "white"
             }
            },
            "header": {
             "fill": {
              "color": "#C8D4E3"
             },
             "line": {
              "color": "white"
             }
            },
            "type": "table"
           }
          ]
         },
         "layout": {
          "annotationdefaults": {
           "arrowcolor": "#2a3f5f",
           "arrowhead": 0,
           "arrowwidth": 1
          },
          "autotypenumbers": "strict",
          "coloraxis": {
           "colorbar": {
            "outlinewidth": 0,
            "ticks": ""
           }
          },
          "colorscale": {
           "diverging": [
            [
             0,
             "#8e0152"
            ],
            [
             0.1,
             "#c51b7d"
            ],
            [
             0.2,
             "#de77ae"
            ],
            [
             0.3,
             "#f1b6da"
            ],
            [
             0.4,
             "#fde0ef"
            ],
            [
             0.5,
             "#f7f7f7"
            ],
            [
             0.6,
             "#e6f5d0"
            ],
            [
             0.7,
             "#b8e186"
            ],
            [
             0.8,
             "#7fbc41"
            ],
            [
             0.9,
             "#4d9221"
            ],
            [
             1,
             "#276419"
            ]
           ],
           "sequential": [
            [
             0,
             "#0d0887"
            ],
            [
             0.1111111111111111,
             "#46039f"
            ],
            [
             0.2222222222222222,
             "#7201a8"
            ],
            [
             0.3333333333333333,
             "#9c179e"
            ],
            [
             0.4444444444444444,
             "#bd3786"
            ],
            [
             0.5555555555555556,
             "#d8576b"
            ],
            [
             0.6666666666666666,
             "#ed7953"
            ],
            [
             0.7777777777777778,
             "#fb9f3a"
            ],
            [
             0.8888888888888888,
             "#fdca26"
            ],
            [
             1,
             "#f0f921"
            ]
           ],
           "sequentialminus": [
            [
             0,
             "#0d0887"
            ],
            [
             0.1111111111111111,
             "#46039f"
            ],
            [
             0.2222222222222222,
             "#7201a8"
            ],
            [
             0.3333333333333333,
             "#9c179e"
            ],
            [
             0.4444444444444444,
             "#bd3786"
            ],
            [
             0.5555555555555556,
             "#d8576b"
            ],
            [
             0.6666666666666666,
             "#ed7953"
            ],
            [
             0.7777777777777778,
             "#fb9f3a"
            ],
            [
             0.8888888888888888,
             "#fdca26"
            ],
            [
             1,
             "#f0f921"
            ]
           ]
          },
          "colorway": [
           "#636efa",
           "#EF553B",
           "#00cc96",
           "#ab63fa",
           "#FFA15A",
           "#19d3f3",
           "#FF6692",
           "#B6E880",
           "#FF97FF",
           "#FECB52"
          ],
          "font": {
           "color": "#2a3f5f"
          },
          "geo": {
           "bgcolor": "white",
           "lakecolor": "white",
           "landcolor": "#E5ECF6",
           "showlakes": true,
           "showland": true,
           "subunitcolor": "white"
          },
          "hoverlabel": {
           "align": "left"
          },
          "hovermode": "closest",
          "mapbox": {
           "style": "light"
          },
          "paper_bgcolor": "white",
          "plot_bgcolor": "#E5ECF6",
          "polar": {
           "angularaxis": {
            "gridcolor": "white",
            "linecolor": "white",
            "ticks": ""
           },
           "bgcolor": "#E5ECF6",
           "radialaxis": {
            "gridcolor": "white",
            "linecolor": "white",
            "ticks": ""
           }
          },
          "scene": {
           "xaxis": {
            "backgroundcolor": "#E5ECF6",
            "gridcolor": "white",
            "gridwidth": 2,
            "linecolor": "white",
            "showbackground": true,
            "ticks": "",
            "zerolinecolor": "white"
           },
           "yaxis": {
            "backgroundcolor": "#E5ECF6",
            "gridcolor": "white",
            "gridwidth": 2,
            "linecolor": "white",
            "showbackground": true,
            "ticks": "",
            "zerolinecolor": "white"
           },
           "zaxis": {
            "backgroundcolor": "#E5ECF6",
            "gridcolor": "white",
            "gridwidth": 2,
            "linecolor": "white",
            "showbackground": true,
            "ticks": "",
            "zerolinecolor": "white"
           }
          },
          "shapedefaults": {
           "line": {
            "color": "#2a3f5f"
           }
          },
          "ternary": {
           "aaxis": {
            "gridcolor": "white",
            "linecolor": "white",
            "ticks": ""
           },
           "baxis": {
            "gridcolor": "white",
            "linecolor": "white",
            "ticks": ""
           },
           "bgcolor": "#E5ECF6",
           "caxis": {
            "gridcolor": "white",
            "linecolor": "white",
            "ticks": ""
           }
          },
          "title": {
           "x": 0.05
          },
          "xaxis": {
           "automargin": true,
           "gridcolor": "white",
           "linecolor": "white",
           "ticks": "",
           "title": {
            "standoff": 15
           },
           "zerolinecolor": "white",
           "zerolinewidth": 2
          },
          "yaxis": {
           "automargin": true,
           "gridcolor": "white",
           "linecolor": "white",
           "ticks": "",
           "title": {
            "standoff": 15
           },
           "zerolinecolor": "white",
           "zerolinewidth": 2
          }
         }
        },
        "title": {
         "font": {
          "size": 20
         },
         "text": "Top Technologies in Data Careers",
         "x": 0.5,
         "yanchor": "top"
        },
        "width": 1000,
        "xaxis": {
         "anchor": "y",
         "domain": [
          0,
          0.2888888888888889
         ]
        },
        "xaxis2": {
         "anchor": "y2",
         "domain": [
          0.35555555555555557,
          0.6444444444444445
         ]
        },
        "xaxis3": {
         "anchor": "y3",
         "domain": [
          0.7111111111111111,
          1
         ]
        },
        "yaxis": {
         "anchor": "x",
         "domain": [
          0,
          1
         ]
        },
        "yaxis2": {
         "anchor": "x2",
         "domain": [
          0,
          1
         ],
         "matches": "y",
         "showticklabels": false
        },
        "yaxis3": {
         "anchor": "x3",
         "domain": [
          0,
          1
         ],
         "matches": "y",
         "showticklabels": false
        }
       }
      }
     },
     "metadata": {},
     "output_type": "display_data"
    }
   ],
   "source": [
    "import plotly.graph_objects as go\n",
    "from plotly.subplots import make_subplots\n",
    "\n",
    "fig = make_subplots(rows=1, cols=3, shared_yaxes=True)\n",
    "\n",
    "fig.add_trace(\n",
    "    go.Bar(x=data_lang.Language, y=data_lang.Value, name=\"Language\", marker=dict(color='darkred',cornerradius=\"30%\")), 1, 1\n",
    ")\n",
    "fig.add_trace(\n",
    "    go.Bar(x=data_dbase.Language, y=data_dbase.Value, name=\"Database\", marker=dict(color='orangered',cornerradius=\"30%\")),1,2,\n",
    ")\n",
    "\n",
    "fig.add_trace(\n",
    "    go.Bar(x=data_misc.Language, y=data_misc.Value, name=\"Library\", marker=dict(color='darkorange',cornerradius=\"30%\")),1,3,\n",
    ")\n",
    "fig.update_layout(\n",
    "        width=1000,  \n",
    "        height=500,\n",
    "        title={\n",
    "        'text': \"Top Technologies in Data Careers\",\n",
    "        'x': 0.5,    \n",
    "        'yanchor': 'top',\n",
    "        'font_size': 20  \n",
    "    },\n",
    "    font=dict(\n",
    "        family=\"Arial\" ,\n",
    "        size=12\n",
    "    )\n",
    ")\n",
    "fig.show()"
   ]
  },
  {
   "cell_type": "code",
   "execution_count": 11,
   "metadata": {},
   "outputs": [
    {
     "data": {
      "application/vnd.plotly.v1+json": {
       "config": {
        "plotlyServerURL": "https://plot.ly"
       },
       "data": [
        {
         "marker": {
          "cornerradius": 30
         },
         "name": "Language",
         "type": "bar",
         "x": [
          "JavaScript",
          "HTML/CSS",
          "SQL"
         ],
         "xaxis": "x",
         "y": [
          25985,
          21553,
          20495
         ],
         "yaxis": "y"
        },
        {
         "marker": {
          "cornerradius": "30%"
         },
         "name": "Database",
         "type": "bar",
         "x": [
          "PostgreSQL",
          "MySQL",
          "SQLite"
         ],
         "xaxis": "x2",
         "y": [
          17479,
          13951,
          11105
         ],
         "yaxis": "y2"
        },
        {
         "marker": {
          "cornerradius": "30%"
         },
         "name": "Library",
         "type": "bar",
         "x": [
          "React",
          "Node.js",
          "jQuery"
         ],
         "xaxis": "x3",
         "y": [
          14158,
          13817,
          7669
         ],
         "yaxis": "y3"
        }
       ],
       "layout": {
        "template": {
         "data": {
          "bar": [
           {
            "error_x": {
             "color": "#2a3f5f"
            },
            "error_y": {
             "color": "#2a3f5f"
            },
            "marker": {
             "line": {
              "color": "#E5ECF6",
              "width": 0.5
             },
             "pattern": {
              "fillmode": "overlay",
              "size": 10,
              "solidity": 0.2
             }
            },
            "type": "bar"
           }
          ],
          "barpolar": [
           {
            "marker": {
             "line": {
              "color": "#E5ECF6",
              "width": 0.5
             },
             "pattern": {
              "fillmode": "overlay",
              "size": 10,
              "solidity": 0.2
             }
            },
            "type": "barpolar"
           }
          ],
          "carpet": [
           {
            "aaxis": {
             "endlinecolor": "#2a3f5f",
             "gridcolor": "white",
             "linecolor": "white",
             "minorgridcolor": "white",
             "startlinecolor": "#2a3f5f"
            },
            "baxis": {
             "endlinecolor": "#2a3f5f",
             "gridcolor": "white",
             "linecolor": "white",
             "minorgridcolor": "white",
             "startlinecolor": "#2a3f5f"
            },
            "type": "carpet"
           }
          ],
          "choropleth": [
           {
            "colorbar": {
             "outlinewidth": 0,
             "ticks": ""
            },
            "type": "choropleth"
           }
          ],
          "contour": [
           {
            "colorbar": {
             "outlinewidth": 0,
             "ticks": ""
            },
            "colorscale": [
             [
              0,
              "#0d0887"
             ],
             [
              0.1111111111111111,
              "#46039f"
             ],
             [
              0.2222222222222222,
              "#7201a8"
             ],
             [
              0.3333333333333333,
              "#9c179e"
             ],
             [
              0.4444444444444444,
              "#bd3786"
             ],
             [
              0.5555555555555556,
              "#d8576b"
             ],
             [
              0.6666666666666666,
              "#ed7953"
             ],
             [
              0.7777777777777778,
              "#fb9f3a"
             ],
             [
              0.8888888888888888,
              "#fdca26"
             ],
             [
              1,
              "#f0f921"
             ]
            ],
            "type": "contour"
           }
          ],
          "contourcarpet": [
           {
            "colorbar": {
             "outlinewidth": 0,
             "ticks": ""
            },
            "type": "contourcarpet"
           }
          ],
          "heatmap": [
           {
            "colorbar": {
             "outlinewidth": 0,
             "ticks": ""
            },
            "colorscale": [
             [
              0,
              "#0d0887"
             ],
             [
              0.1111111111111111,
              "#46039f"
             ],
             [
              0.2222222222222222,
              "#7201a8"
             ],
             [
              0.3333333333333333,
              "#9c179e"
             ],
             [
              0.4444444444444444,
              "#bd3786"
             ],
             [
              0.5555555555555556,
              "#d8576b"
             ],
             [
              0.6666666666666666,
              "#ed7953"
             ],
             [
              0.7777777777777778,
              "#fb9f3a"
             ],
             [
              0.8888888888888888,
              "#fdca26"
             ],
             [
              1,
              "#f0f921"
             ]
            ],
            "type": "heatmap"
           }
          ],
          "heatmapgl": [
           {
            "colorbar": {
             "outlinewidth": 0,
             "ticks": ""
            },
            "colorscale": [
             [
              0,
              "#0d0887"
             ],
             [
              0.1111111111111111,
              "#46039f"
             ],
             [
              0.2222222222222222,
              "#7201a8"
             ],
             [
              0.3333333333333333,
              "#9c179e"
             ],
             [
              0.4444444444444444,
              "#bd3786"
             ],
             [
              0.5555555555555556,
              "#d8576b"
             ],
             [
              0.6666666666666666,
              "#ed7953"
             ],
             [
              0.7777777777777778,
              "#fb9f3a"
             ],
             [
              0.8888888888888888,
              "#fdca26"
             ],
             [
              1,
              "#f0f921"
             ]
            ],
            "type": "heatmapgl"
           }
          ],
          "histogram": [
           {
            "marker": {
             "pattern": {
              "fillmode": "overlay",
              "size": 10,
              "solidity": 0.2
             }
            },
            "type": "histogram"
           }
          ],
          "histogram2d": [
           {
            "colorbar": {
             "outlinewidth": 0,
             "ticks": ""
            },
            "colorscale": [
             [
              0,
              "#0d0887"
             ],
             [
              0.1111111111111111,
              "#46039f"
             ],
             [
              0.2222222222222222,
              "#7201a8"
             ],
             [
              0.3333333333333333,
              "#9c179e"
             ],
             [
              0.4444444444444444,
              "#bd3786"
             ],
             [
              0.5555555555555556,
              "#d8576b"
             ],
             [
              0.6666666666666666,
              "#ed7953"
             ],
             [
              0.7777777777777778,
              "#fb9f3a"
             ],
             [
              0.8888888888888888,
              "#fdca26"
             ],
             [
              1,
              "#f0f921"
             ]
            ],
            "type": "histogram2d"
           }
          ],
          "histogram2dcontour": [
           {
            "colorbar": {
             "outlinewidth": 0,
             "ticks": ""
            },
            "colorscale": [
             [
              0,
              "#0d0887"
             ],
             [
              0.1111111111111111,
              "#46039f"
             ],
             [
              0.2222222222222222,
              "#7201a8"
             ],
             [
              0.3333333333333333,
              "#9c179e"
             ],
             [
              0.4444444444444444,
              "#bd3786"
             ],
             [
              0.5555555555555556,
              "#d8576b"
             ],
             [
              0.6666666666666666,
              "#ed7953"
             ],
             [
              0.7777777777777778,
              "#fb9f3a"
             ],
             [
              0.8888888888888888,
              "#fdca26"
             ],
             [
              1,
              "#f0f921"
             ]
            ],
            "type": "histogram2dcontour"
           }
          ],
          "mesh3d": [
           {
            "colorbar": {
             "outlinewidth": 0,
             "ticks": ""
            },
            "type": "mesh3d"
           }
          ],
          "parcoords": [
           {
            "line": {
             "colorbar": {
              "outlinewidth": 0,
              "ticks": ""
             }
            },
            "type": "parcoords"
           }
          ],
          "pie": [
           {
            "automargin": true,
            "type": "pie"
           }
          ],
          "scatter": [
           {
            "fillpattern": {
             "fillmode": "overlay",
             "size": 10,
             "solidity": 0.2
            },
            "type": "scatter"
           }
          ],
          "scatter3d": [
           {
            "line": {
             "colorbar": {
              "outlinewidth": 0,
              "ticks": ""
             }
            },
            "marker": {
             "colorbar": {
              "outlinewidth": 0,
              "ticks": ""
             }
            },
            "type": "scatter3d"
           }
          ],
          "scattercarpet": [
           {
            "marker": {
             "colorbar": {
              "outlinewidth": 0,
              "ticks": ""
             }
            },
            "type": "scattercarpet"
           }
          ],
          "scattergeo": [
           {
            "marker": {
             "colorbar": {
              "outlinewidth": 0,
              "ticks": ""
             }
            },
            "type": "scattergeo"
           }
          ],
          "scattergl": [
           {
            "marker": {
             "colorbar": {
              "outlinewidth": 0,
              "ticks": ""
             }
            },
            "type": "scattergl"
           }
          ],
          "scattermapbox": [
           {
            "marker": {
             "colorbar": {
              "outlinewidth": 0,
              "ticks": ""
             }
            },
            "type": "scattermapbox"
           }
          ],
          "scatterpolar": [
           {
            "marker": {
             "colorbar": {
              "outlinewidth": 0,
              "ticks": ""
             }
            },
            "type": "scatterpolar"
           }
          ],
          "scatterpolargl": [
           {
            "marker": {
             "colorbar": {
              "outlinewidth": 0,
              "ticks": ""
             }
            },
            "type": "scatterpolargl"
           }
          ],
          "scatterternary": [
           {
            "marker": {
             "colorbar": {
              "outlinewidth": 0,
              "ticks": ""
             }
            },
            "type": "scatterternary"
           }
          ],
          "surface": [
           {
            "colorbar": {
             "outlinewidth": 0,
             "ticks": ""
            },
            "colorscale": [
             [
              0,
              "#0d0887"
             ],
             [
              0.1111111111111111,
              "#46039f"
             ],
             [
              0.2222222222222222,
              "#7201a8"
             ],
             [
              0.3333333333333333,
              "#9c179e"
             ],
             [
              0.4444444444444444,
              "#bd3786"
             ],
             [
              0.5555555555555556,
              "#d8576b"
             ],
             [
              0.6666666666666666,
              "#ed7953"
             ],
             [
              0.7777777777777778,
              "#fb9f3a"
             ],
             [
              0.8888888888888888,
              "#fdca26"
             ],
             [
              1,
              "#f0f921"
             ]
            ],
            "type": "surface"
           }
          ],
          "table": [
           {
            "cells": {
             "fill": {
              "color": "#EBF0F8"
             },
             "line": {
              "color": "white"
             }
            },
            "header": {
             "fill": {
              "color": "#C8D4E3"
             },
             "line": {
              "color": "white"
             }
            },
            "type": "table"
           }
          ]
         },
         "layout": {
          "annotationdefaults": {
           "arrowcolor": "#2a3f5f",
           "arrowhead": 0,
           "arrowwidth": 1
          },
          "autotypenumbers": "strict",
          "coloraxis": {
           "colorbar": {
            "outlinewidth": 0,
            "ticks": ""
           }
          },
          "colorscale": {
           "diverging": [
            [
             0,
             "#8e0152"
            ],
            [
             0.1,
             "#c51b7d"
            ],
            [
             0.2,
             "#de77ae"
            ],
            [
             0.3,
             "#f1b6da"
            ],
            [
             0.4,
             "#fde0ef"
            ],
            [
             0.5,
             "#f7f7f7"
            ],
            [
             0.6,
             "#e6f5d0"
            ],
            [
             0.7,
             "#b8e186"
            ],
            [
             0.8,
             "#7fbc41"
            ],
            [
             0.9,
             "#4d9221"
            ],
            [
             1,
             "#276419"
            ]
           ],
           "sequential": [
            [
             0,
             "#0d0887"
            ],
            [
             0.1111111111111111,
             "#46039f"
            ],
            [
             0.2222222222222222,
             "#7201a8"
            ],
            [
             0.3333333333333333,
             "#9c179e"
            ],
            [
             0.4444444444444444,
             "#bd3786"
            ],
            [
             0.5555555555555556,
             "#d8576b"
            ],
            [
             0.6666666666666666,
             "#ed7953"
            ],
            [
             0.7777777777777778,
             "#fb9f3a"
            ],
            [
             0.8888888888888888,
             "#fdca26"
            ],
            [
             1,
             "#f0f921"
            ]
           ],
           "sequentialminus": [
            [
             0,
             "#0d0887"
            ],
            [
             0.1111111111111111,
             "#46039f"
            ],
            [
             0.2222222222222222,
             "#7201a8"
            ],
            [
             0.3333333333333333,
             "#9c179e"
            ],
            [
             0.4444444444444444,
             "#bd3786"
            ],
            [
             0.5555555555555556,
             "#d8576b"
            ],
            [
             0.6666666666666666,
             "#ed7953"
            ],
            [
             0.7777777777777778,
             "#fb9f3a"
            ],
            [
             0.8888888888888888,
             "#fdca26"
            ],
            [
             1,
             "#f0f921"
            ]
           ]
          },
          "colorway": [
           "#636efa",
           "#EF553B",
           "#00cc96",
           "#ab63fa",
           "#FFA15A",
           "#19d3f3",
           "#FF6692",
           "#B6E880",
           "#FF97FF",
           "#FECB52"
          ],
          "font": {
           "color": "#2a3f5f"
          },
          "geo": {
           "bgcolor": "white",
           "lakecolor": "white",
           "landcolor": "#E5ECF6",
           "showlakes": true,
           "showland": true,
           "subunitcolor": "white"
          },
          "hoverlabel": {
           "align": "left"
          },
          "hovermode": "closest",
          "mapbox": {
           "style": "light"
          },
          "paper_bgcolor": "white",
          "plot_bgcolor": "#E5ECF6",
          "polar": {
           "angularaxis": {
            "gridcolor": "white",
            "linecolor": "white",
            "ticks": ""
           },
           "bgcolor": "#E5ECF6",
           "radialaxis": {
            "gridcolor": "white",
            "linecolor": "white",
            "ticks": ""
           }
          },
          "scene": {
           "xaxis": {
            "backgroundcolor": "#E5ECF6",
            "gridcolor": "white",
            "gridwidth": 2,
            "linecolor": "white",
            "showbackground": true,
            "ticks": "",
            "zerolinecolor": "white"
           },
           "yaxis": {
            "backgroundcolor": "#E5ECF6",
            "gridcolor": "white",
            "gridwidth": 2,
            "linecolor": "white",
            "showbackground": true,
            "ticks": "",
            "zerolinecolor": "white"
           },
           "zaxis": {
            "backgroundcolor": "#E5ECF6",
            "gridcolor": "white",
            "gridwidth": 2,
            "linecolor": "white",
            "showbackground": true,
            "ticks": "",
            "zerolinecolor": "white"
           }
          },
          "shapedefaults": {
           "line": {
            "color": "#2a3f5f"
           }
          },
          "ternary": {
           "aaxis": {
            "gridcolor": "white",
            "linecolor": "white",
            "ticks": ""
           },
           "baxis": {
            "gridcolor": "white",
            "linecolor": "white",
            "ticks": ""
           },
           "bgcolor": "#E5ECF6",
           "caxis": {
            "gridcolor": "white",
            "linecolor": "white",
            "ticks": ""
           }
          },
          "title": {
           "x": 0.05
          },
          "xaxis": {
           "automargin": true,
           "gridcolor": "white",
           "linecolor": "white",
           "ticks": "",
           "title": {
            "standoff": 15
           },
           "zerolinecolor": "white",
           "zerolinewidth": 2
          },
          "yaxis": {
           "automargin": true,
           "gridcolor": "white",
           "linecolor": "white",
           "ticks": "",
           "title": {
            "standoff": 15
           },
           "zerolinecolor": "white",
           "zerolinewidth": 2
          }
         }
        },
        "xaxis": {
         "anchor": "y",
         "domain": [
          0,
          0.2888888888888889
         ]
        },
        "xaxis2": {
         "anchor": "y2",
         "domain": [
          0.35555555555555557,
          0.6444444444444445
         ]
        },
        "xaxis3": {
         "anchor": "y3",
         "domain": [
          0.7111111111111111,
          1
         ]
        },
        "yaxis": {
         "anchor": "x",
         "domain": [
          0,
          1
         ]
        },
        "yaxis2": {
         "anchor": "x2",
         "domain": [
          0,
          1
         ],
         "matches": "y",
         "showticklabels": false
        },
        "yaxis3": {
         "anchor": "x3",
         "domain": [
          0,
          1
         ],
         "matches": "y",
         "showticklabels": false
        }
       }
      }
     },
     "metadata": {},
     "output_type": "display_data"
    }
   ],
   "source": [
    "fig = make_subplots(rows=1, cols=3, shared_yaxes=True)\n",
    "\n",
    "fig.add_trace(\n",
    "    go.Bar(x=dev_lang.Language, y=dev_lang.Value, name=\"Language\", marker=dict(cornerradius=30)), 1, 1\n",
    ")\n",
    "fig.add_trace(\n",
    "    go.Bar(x=dev_dbase.Language, y=dev_dbase.Value, name=\"Database\", marker=dict(cornerradius=\"30%\")),\n",
    "    1,\n",
    "    2,\n",
    ")\n",
    "\n",
    "fig.add_trace(\n",
    "    go.Bar(x=dev_wframe.Language, y=dev_wframe.Value, name=\"Library\", marker=dict(cornerradius=\"30%\")),\n",
    "    1,\n",
    "    3,\n",
    ")\n",
    "\n",
    "\n",
    "fig.show()"
   ]
  },
  {
   "cell_type": "code",
   "execution_count": 12,
   "metadata": {},
   "outputs": [
    {
     "name": "stdout",
     "output_type": "stream",
     "text": [
      "ResponseId\n",
      "DevType\n",
      "Country\n",
      "ConvertedCompYearly\n",
      "Employed, full-time\n",
      "Student, full-time\n",
      "Not employed, but looking for work\n",
      "Independent contractor, freelancer, or self-employed\n",
      "Not employed, and not looking for work\n",
      "Student, part-time\n",
      "Employed, part-time\n",
      "I prefer not to say\n",
      "Retired\n"
     ]
    }
   ],
   "source": [
    "for item in emp.columns:\n",
    "    print(item)"
   ]
  },
  {
   "cell_type": "code",
   "execution_count": 13,
   "metadata": {},
   "outputs": [
    {
     "data": {
      "text/plain": [
       "(65437, 13)"
      ]
     },
     "execution_count": 13,
     "metadata": {},
     "output_type": "execute_result"
    }
   ],
   "source": [
    "emp.shape"
   ]
  },
  {
   "cell_type": "code",
   "execution_count": 14,
   "metadata": {},
   "outputs": [],
   "source": [
    "new_emp = emp.dropna(subset=\"ConvertedCompYearly\")"
   ]
  },
  {
   "cell_type": "code",
   "execution_count": 15,
   "metadata": {},
   "outputs": [],
   "source": [
    "\n",
    "new_emp = emp.dropna(subset=\"ConvertedCompYearly\")\n",
    "# Provide a list of column names where rows will be dropped if any of the specified columns contain the value 1.\n",
    "columns_to_check = [\n",
    "    \"Student, full-time\",                           # Indicates if the individual is a full-time student\n",
    "    \"Not employed, but looking for work\",           # Indicates if the individual is not employed but actively seeking employment\n",
    "    \"Not employed, and not looking for work\",       # Indicates if the individual is not employed and not seeking employment\n",
    "    \"Student, part-time\",                           # Indicates if the individual is a part-time student                       \n",
    "]\n",
    "\n",
    "# Create a boolean mask where any of the specified columns have a value of 1\n",
    "mask = new_emp[columns_to_check].eq(1).any(axis=1)\n",
    "\n",
    "# Drop rows where any of the specified columns have a value of 1\n",
    "filtered_emp = new_emp[~mask]\n",
    "\n",
    "# Verify the shape of the filtered DataFrame\n",
    "q2 = filtered_emp.loc[:,[\"DevType\",\"ConvertedCompYearly\",\"Country\"]]"
   ]
  },
  {
   "cell_type": "code",
   "execution_count": 16,
   "metadata": {},
   "outputs": [
    {
     "data": {
      "text/html": [
       "<div>\n",
       "<style scoped>\n",
       "    .dataframe tbody tr th:only-of-type {\n",
       "        vertical-align: middle;\n",
       "    }\n",
       "\n",
       "    .dataframe tbody tr th {\n",
       "        vertical-align: top;\n",
       "    }\n",
       "\n",
       "    .dataframe thead th {\n",
       "        text-align: right;\n",
       "    }\n",
       "</style>\n",
       "<table border=\"1\" class=\"dataframe\">\n",
       "  <thead>\n",
       "    <tr style=\"text-align: right;\">\n",
       "      <th></th>\n",
       "      <th>DevType</th>\n",
       "      <th>ConvertedCompYearly</th>\n",
       "      <th>Country</th>\n",
       "    </tr>\n",
       "  </thead>\n",
       "  <tbody>\n",
       "    <tr>\n",
       "      <th>374</th>\n",
       "      <td>Academic Researcher</td>\n",
       "      <td>30074.0</td>\n",
       "      <td>Austria</td>\n",
       "    </tr>\n",
       "    <tr>\n",
       "      <th>379</th>\n",
       "      <td>Data Science/ML</td>\n",
       "      <td>91295.0</td>\n",
       "      <td>Turkey</td>\n",
       "    </tr>\n",
       "    <tr>\n",
       "      <th>385</th>\n",
       "      <td>Back-End Developer</td>\n",
       "      <td>53703.0</td>\n",
       "      <td>France</td>\n",
       "    </tr>\n",
       "    <tr>\n",
       "      <th>392</th>\n",
       "      <td>Project Manager</td>\n",
       "      <td>161044.0</td>\n",
       "      <td>United Kingdom</td>\n",
       "    </tr>\n",
       "    <tr>\n",
       "      <th>395</th>\n",
       "      <td>Others</td>\n",
       "      <td>121018.0</td>\n",
       "      <td>United Kingdom</td>\n",
       "    </tr>\n",
       "    <tr>\n",
       "      <th>...</th>\n",
       "      <td>...</td>\n",
       "      <td>...</td>\n",
       "      <td>...</td>\n",
       "    </tr>\n",
       "    <tr>\n",
       "      <th>41179</th>\n",
       "      <td>Back-End Developer</td>\n",
       "      <td>15600.0</td>\n",
       "      <td>Ukraine</td>\n",
       "    </tr>\n",
       "    <tr>\n",
       "      <th>41180</th>\n",
       "      <td>Software Engineer</td>\n",
       "      <td>44640.0</td>\n",
       "      <td>Sweden</td>\n",
       "    </tr>\n",
       "    <tr>\n",
       "      <th>41184</th>\n",
       "      <td>Project Manager</td>\n",
       "      <td>170000.0</td>\n",
       "      <td>United States</td>\n",
       "    </tr>\n",
       "    <tr>\n",
       "      <th>41185</th>\n",
       "      <td>Full-Stack Developer</td>\n",
       "      <td>116844.0</td>\n",
       "      <td>United States</td>\n",
       "    </tr>\n",
       "    <tr>\n",
       "      <th>41187</th>\n",
       "      <td>Software Engineer</td>\n",
       "      <td>222834.0</td>\n",
       "      <td>Switzerland</td>\n",
       "    </tr>\n",
       "  </tbody>\n",
       "</table>\n",
       "<p>19880 rows × 3 columns</p>\n",
       "</div>"
      ],
      "text/plain": [
       "                    DevType  ConvertedCompYearly         Country\n",
       "374     Academic Researcher              30074.0         Austria\n",
       "379         Data Science/ML              91295.0          Turkey\n",
       "385      Back-End Developer              53703.0          France\n",
       "392         Project Manager             161044.0  United Kingdom\n",
       "395                  Others             121018.0  United Kingdom\n",
       "...                     ...                  ...             ...\n",
       "41179    Back-End Developer              15600.0         Ukraine\n",
       "41180     Software Engineer              44640.0          Sweden\n",
       "41184       Project Manager             170000.0   United States\n",
       "41185  Full-Stack Developer             116844.0   United States\n",
       "41187     Software Engineer             222834.0     Switzerland\n",
       "\n",
       "[19880 rows x 3 columns]"
      ]
     },
     "execution_count": 16,
     "metadata": {},
     "output_type": "execute_result"
    }
   ],
   "source": [
    "# Define the minimum daily salary in PHP\n",
    "daily_salary_php = 600  # Minimum daily wage in PHP\n",
    "\n",
    "# Number of working days per year (assuming 252 working days)\n",
    "working_days_per_year = 252\n",
    "\n",
    "# Calculate the yearly salary in PHP\n",
    "yearly_salary_php = daily_salary_php * working_days_per_year\n",
    "\n",
    "# Define the exchange rate from PHP to USD\n",
    "exchange_rate = 56.16  # Its 56.16 as of 9/5/2024 \n",
    "\n",
    "# Convert the yearly salary from PHP to USD and use it as threshhold to filter the anomalies or misinputted data\n",
    "threshold = yearly_salary_php / exchange_rate\n",
    "\n",
    "# Filter out rows where 'ConvertedCompYearly' is less than the threshold\n",
    "q2 = q2[q2[\"ConvertedCompYearly\"] >= threshold]\n",
    "\n",
    "#----------------------------------------------------------------------------\n",
    "\n",
    "# Calculate Q1 (25th percentile) and Q3 (75th percentile)\n",
    "Q1 = q2[\"ConvertedCompYearly\"].quantile(0.25)\n",
    "Q3 = q2[\"ConvertedCompYearly\"].quantile(0.75)\n",
    "\n",
    "# Compute the IQR\n",
    "IQR = Q3 - Q1\n",
    "\n",
    "# Define the bounds for non-outliers\n",
    "lower_bound = Q1 - 1.5 * IQR\n",
    "upper_bound = Q3 + 1.5 * IQR\n",
    "\n",
    "# Filter out outliers\n",
    "removed = q2[(q2[\"ConvertedCompYearly\"] >= lower_bound) & (q2[\"ConvertedCompYearly\"] <= upper_bound)]\n",
    "removed"
   ]
  },
  {
   "cell_type": "code",
   "execution_count": 17,
   "metadata": {},
   "outputs": [
    {
     "data": {
      "text/html": [
       "<div>\n",
       "<style scoped>\n",
       "    .dataframe tbody tr th:only-of-type {\n",
       "        vertical-align: middle;\n",
       "    }\n",
       "\n",
       "    .dataframe tbody tr th {\n",
       "        vertical-align: top;\n",
       "    }\n",
       "\n",
       "    .dataframe thead th {\n",
       "        text-align: right;\n",
       "    }\n",
       "</style>\n",
       "<table border=\"1\" class=\"dataframe\">\n",
       "  <thead>\n",
       "    <tr style=\"text-align: right;\">\n",
       "      <th></th>\n",
       "      <th>DevType</th>\n",
       "      <th>median</th>\n",
       "      <th>min</th>\n",
       "      <th>max</th>\n",
       "      <th>count</th>\n",
       "    </tr>\n",
       "  </thead>\n",
       "  <tbody>\n",
       "    <tr>\n",
       "      <th>0</th>\n",
       "      <td>Academic Researcher</td>\n",
       "      <td>55779.5</td>\n",
       "      <td>2957.0</td>\n",
       "      <td>200550.0</td>\n",
       "      <td>284</td>\n",
       "    </tr>\n",
       "    <tr>\n",
       "      <th>1</th>\n",
       "      <td>Back-End Developer</td>\n",
       "      <td>69814.0</td>\n",
       "      <td>2700.0</td>\n",
       "      <td>222000.0</td>\n",
       "      <td>4082</td>\n",
       "    </tr>\n",
       "    <tr>\n",
       "      <th>2</th>\n",
       "      <td>Blockchain Developer</td>\n",
       "      <td>86163.0</td>\n",
       "      <td>4041.0</td>\n",
       "      <td>215000.0</td>\n",
       "      <td>68</td>\n",
       "    </tr>\n",
       "    <tr>\n",
       "      <th>3</th>\n",
       "      <td>Cloud Engineer</td>\n",
       "      <td>93628.0</td>\n",
       "      <td>3235.0</td>\n",
       "      <td>215000.0</td>\n",
       "      <td>238</td>\n",
       "    </tr>\n",
       "    <tr>\n",
       "      <th>4</th>\n",
       "      <td>Cyber Security</td>\n",
       "      <td>77869.5</td>\n",
       "      <td>3589.0</td>\n",
       "      <td>221713.0</td>\n",
       "      <td>84</td>\n",
       "    </tr>\n",
       "    <tr>\n",
       "      <th>5</th>\n",
       "      <td>Data Analyst</td>\n",
       "      <td>59936.0</td>\n",
       "      <td>5572.0</td>\n",
       "      <td>200000.0</td>\n",
       "      <td>174</td>\n",
       "    </tr>\n",
       "    <tr>\n",
       "      <th>6</th>\n",
       "      <td>Data Engineer</td>\n",
       "      <td>77332.0</td>\n",
       "      <td>2700.0</td>\n",
       "      <td>222834.0</td>\n",
       "      <td>503</td>\n",
       "    </tr>\n",
       "    <tr>\n",
       "      <th>7</th>\n",
       "      <td>Data Science/ML</td>\n",
       "      <td>74394.0</td>\n",
       "      <td>3000.0</td>\n",
       "      <td>215000.0</td>\n",
       "      <td>354</td>\n",
       "    </tr>\n",
       "    <tr>\n",
       "      <th>8</th>\n",
       "      <td>Databases Administrator</td>\n",
       "      <td>87262.0</td>\n",
       "      <td>2759.0</td>\n",
       "      <td>200000.0</td>\n",
       "      <td>50</td>\n",
       "    </tr>\n",
       "    <tr>\n",
       "      <th>9</th>\n",
       "      <td>DevOps Engineer</td>\n",
       "      <td>77000.0</td>\n",
       "      <td>2839.0</td>\n",
       "      <td>215000.0</td>\n",
       "      <td>423</td>\n",
       "    </tr>\n",
       "    <tr>\n",
       "      <th>10</th>\n",
       "      <td>Front-End Developer</td>\n",
       "      <td>55285.0</td>\n",
       "      <td>2782.0</td>\n",
       "      <td>222929.0</td>\n",
       "      <td>1186</td>\n",
       "    </tr>\n",
       "    <tr>\n",
       "      <th>11</th>\n",
       "      <td>Full-Stack Developer</td>\n",
       "      <td>65424.0</td>\n",
       "      <td>2695.0</td>\n",
       "      <td>222834.0</td>\n",
       "      <td>7224</td>\n",
       "    </tr>\n",
       "    <tr>\n",
       "      <th>12</th>\n",
       "      <td>Game Developer</td>\n",
       "      <td>60000.0</td>\n",
       "      <td>2876.0</td>\n",
       "      <td>220000.0</td>\n",
       "      <td>171</td>\n",
       "    </tr>\n",
       "    <tr>\n",
       "      <th>13</th>\n",
       "      <td>Hardware Engineer</td>\n",
       "      <td>90000.0</td>\n",
       "      <td>3326.0</td>\n",
       "      <td>222834.0</td>\n",
       "      <td>155</td>\n",
       "    </tr>\n",
       "    <tr>\n",
       "      <th>14</th>\n",
       "      <td>ML Engineer</td>\n",
       "      <td>77332.0</td>\n",
       "      <td>3000.0</td>\n",
       "      <td>220000.0</td>\n",
       "      <td>145</td>\n",
       "    </tr>\n",
       "    <tr>\n",
       "      <th>15</th>\n",
       "      <td>Mobile App Developer</td>\n",
       "      <td>59316.0</td>\n",
       "      <td>2725.0</td>\n",
       "      <td>222929.0</td>\n",
       "      <td>664</td>\n",
       "    </tr>\n",
       "    <tr>\n",
       "      <th>16</th>\n",
       "      <td>Others</td>\n",
       "      <td>81307.0</td>\n",
       "      <td>3456.0</td>\n",
       "      <td>220000.0</td>\n",
       "      <td>583</td>\n",
       "    </tr>\n",
       "    <tr>\n",
       "      <th>17</th>\n",
       "      <td>Professional Researcher</td>\n",
       "      <td>73036.0</td>\n",
       "      <td>2991.0</td>\n",
       "      <td>222834.0</td>\n",
       "      <td>536</td>\n",
       "    </tr>\n",
       "    <tr>\n",
       "      <th>18</th>\n",
       "      <td>Project Manager</td>\n",
       "      <td>96909.0</td>\n",
       "      <td>2871.0</td>\n",
       "      <td>222500.0</td>\n",
       "      <td>874</td>\n",
       "    </tr>\n",
       "    <tr>\n",
       "      <th>19</th>\n",
       "      <td>QA Engineer</td>\n",
       "      <td>59695.5</td>\n",
       "      <td>2871.0</td>\n",
       "      <td>195000.0</td>\n",
       "      <td>212</td>\n",
       "    </tr>\n",
       "    <tr>\n",
       "      <th>20</th>\n",
       "      <td>Sales Professional</td>\n",
       "      <td>60109.0</td>\n",
       "      <td>9274.0</td>\n",
       "      <td>214812.0</td>\n",
       "      <td>14</td>\n",
       "    </tr>\n",
       "    <tr>\n",
       "      <th>21</th>\n",
       "      <td>Software Engineer</td>\n",
       "      <td>70063.0</td>\n",
       "      <td>2913.0</td>\n",
       "      <td>222834.0</td>\n",
       "      <td>1682</td>\n",
       "    </tr>\n",
       "    <tr>\n",
       "      <th>22</th>\n",
       "      <td>System Administrator</td>\n",
       "      <td>53703.0</td>\n",
       "      <td>3000.0</td>\n",
       "      <td>166000.0</td>\n",
       "      <td>135</td>\n",
       "    </tr>\n",
       "    <tr>\n",
       "      <th>23</th>\n",
       "      <td>UI/UX Designer</td>\n",
       "      <td>70000.0</td>\n",
       "      <td>2782.0</td>\n",
       "      <td>207662.0</td>\n",
       "      <td>39</td>\n",
       "    </tr>\n",
       "  </tbody>\n",
       "</table>\n",
       "</div>"
      ],
      "text/plain": [
       "                    DevType   median     min       max  count\n",
       "0       Academic Researcher  55779.5  2957.0  200550.0    284\n",
       "1        Back-End Developer  69814.0  2700.0  222000.0   4082\n",
       "2      Blockchain Developer  86163.0  4041.0  215000.0     68\n",
       "3            Cloud Engineer  93628.0  3235.0  215000.0    238\n",
       "4            Cyber Security  77869.5  3589.0  221713.0     84\n",
       "5              Data Analyst  59936.0  5572.0  200000.0    174\n",
       "6             Data Engineer  77332.0  2700.0  222834.0    503\n",
       "7           Data Science/ML  74394.0  3000.0  215000.0    354\n",
       "8   Databases Administrator  87262.0  2759.0  200000.0     50\n",
       "9           DevOps Engineer  77000.0  2839.0  215000.0    423\n",
       "10      Front-End Developer  55285.0  2782.0  222929.0   1186\n",
       "11     Full-Stack Developer  65424.0  2695.0  222834.0   7224\n",
       "12           Game Developer  60000.0  2876.0  220000.0    171\n",
       "13        Hardware Engineer  90000.0  3326.0  222834.0    155\n",
       "14              ML Engineer  77332.0  3000.0  220000.0    145\n",
       "15     Mobile App Developer  59316.0  2725.0  222929.0    664\n",
       "16                   Others  81307.0  3456.0  220000.0    583\n",
       "17  Professional Researcher  73036.0  2991.0  222834.0    536\n",
       "18          Project Manager  96909.0  2871.0  222500.0    874\n",
       "19              QA Engineer  59695.5  2871.0  195000.0    212\n",
       "20       Sales Professional  60109.0  9274.0  214812.0     14\n",
       "21        Software Engineer  70063.0  2913.0  222834.0   1682\n",
       "22     System Administrator  53703.0  3000.0  166000.0    135\n",
       "23           UI/UX Designer  70000.0  2782.0  207662.0     39"
      ]
     },
     "execution_count": 17,
     "metadata": {},
     "output_type": "execute_result"
    }
   ],
   "source": [
    "q2 = removed.groupby(\"DevType\")[\"ConvertedCompYearly\"].agg(['median','min','max','count']).reset_index()\n",
    "q2"
   ]
  },
  {
   "cell_type": "code",
   "execution_count": 18,
   "metadata": {},
   "outputs": [
    {
     "data": {
      "image/png": "[encoded data removed]",
      "text/plain": [
       "<Figure size 1000x600 with 1 Axes>"
      ]
     },
     "metadata": {},
     "output_type": "display_data"
    }
   ],
   "source": [
    "#sns.displot(q2, x=\"ConvertedCompYearly\", bins=20)\n",
    "import matplotlib.pyplot as plt\n",
    "\n",
    "# Plot a histogram of the 'ConvertedCompYearly' column\n",
    "plt.figure(figsize=(10, 6))\n",
    "plt.hist(removed[\"ConvertedCompYearly\"].dropna(), bins=100, edgecolor='black')\n",
    "plt.title('Distribution of Yearly Converted Compensation')\n",
    "plt.xlabel('Converted Compensation Yearly')\n",
    "plt.ylabel('Frequency')\n",
    "plt.grid(True)\n",
    "plt.show()\n"
   ]
  },
  {
   "cell_type": "code",
   "execution_count": 19,
   "metadata": {},
   "outputs": [
    {
     "data": {
      "text/plain": [
       "(24, 5)"
      ]
     },
     "execution_count": 19,
     "metadata": {},
     "output_type": "execute_result"
    }
   ],
   "source": [
    "q2.shape"
   ]
  },
  {
   "cell_type": "code",
   "execution_count": 40,
   "metadata": {},
   "outputs": [
    {
     "data": {
      "application/vnd.plotly.v1+json": {
       "config": {
        "plotlyServerURL": "https://plot.ly"
       },
       "data": [
        {
         "alignmentgroup": "True",
         "customdata": [
          [
           3000,
           166000,
           135
          ],
          [
           2782,
           222929,
           1186
          ],
          [
           2957,
           200550,
           284
          ],
          [
           2725,
           222929,
           664
          ],
          [
           2871,
           195000,
           212
          ],
          [
           5572,
           200000,
           174
          ],
          [
           2876,
           220000,
           171
          ],
          [
           9274,
           214812,
           14
          ],
          [
           2695,
           222834,
           7224
          ],
          [
           2700,
           222000,
           4082
          ],
          [
           2782,
           207662,
           39
          ],
          [
           2913,
           222834,
           1682
          ],
          [
           2991,
           222834,
           536
          ],
          [
           3000,
           215000,
           354
          ],
          [
           2839,
           215000,
           423
          ],
          [
           2700,
           222834,
           503
          ],
          [
           3000,
           220000,
           145
          ],
          [
           3589,
           221713,
           84
          ],
          [
           3456,
           220000,
           583
          ],
          [
           4041,
           215000,
           68
          ],
          [
           2759,
           200000,
           50
          ],
          [
           3326,
           222834,
           155
          ],
          [
           3235,
           215000,
           238
          ],
          [
           2871,
           222500,
           874
          ]
         ],
         "hoverlabel": {
          "font": {
           "family": "Arial",
           "size": 16
          }
         },
         "hovertemplate": "<span style=\"font-size:18px;\"><b>%{y}</b></span><br>median : $%{x}<br>      min : $%{customdata[0]:,}<br>     max : $%{customdata[1]:,}<br>   count : %{customdata[2]}",
         "legendgroup": "",
         "marker": {
          "color": [
           53703,
           55285,
           55779.5,
           59316,
           59695.5,
           59936,
           60000,
           60109,
           65424,
           69814,
           70000,
           70063,
           73036,
           74394,
           77000,
           77332,
           77332,
           77869.5,
           81307,
           86163,
           87262,
           90000,
           93628,
           96909
          ],
          "coloraxis": "coloraxis",
          "pattern": {
           "shape": ""
          }
         },
         "name": "",
         "offsetgroup": "",
         "orientation": "h",
         "showlegend": false,
         "text": [
          53703,
          55285,
          55779.5,
          59316,
          59695.5,
          59936,
          60000,
          60109,
          65424,
          69814,
          70000,
          70063,
          73036,
          74394,
          77000,
          77332,
          77332,
          77869.5,
          81307,
          86163,
          87262,
          90000,
          93628,
          96909
         ],
         "textfont": {
          "color": "black",
          "size": 14
         },
         "textposition": "outside",
         "type": "bar",
         "x": [
          53703,
          55285,
          55779.5,
          59316,
          59695.5,
          59936,
          60000,
          60109,
          65424,
          69814,
          70000,
          70063,
          73036,
          74394,
          77000,
          77332,
          77332,
          77869.5,
          81307,
          86163,
          87262,
          90000,
          93628,
          96909
         ],
         "xaxis": "x",
         "y": [
          "System Administrator",
          "Front-End Developer",
          "Academic Researcher",
          "Mobile App Developer",
          "QA Engineer",
          "Data Analyst",
          "Game Developer",
          "Sales Professional",
          "Full-Stack Developer",
          "Back-End Developer",
          "UI/UX Designer",
          "Software Engineer",
          "Professional Researcher",
          "Data Science/ML",
          "DevOps Engineer",
          "Data Engineer",
          "ML Engineer",
          "Cyber Security",
          "Others",
          "Blockchain Developer",
          "Databases Administrator",
          "Hardware Engineer",
          "Cloud Engineer",
          "Project Manager"
         ],
         "yaxis": "y"
        }
       ],
       "layout": {
        "barmode": "relative",
        "coloraxis": {
         "colorbar": {
          "tickfont": {
           "color": "Black",
           "family": "Arial",
           "size": 15,
           "weight": "normal"
          },
          "title": {
           "text": "median"
          }
         },
         "colorscale": [
          [
           0,
           "rgb(255,247,236)"
          ],
          [
           0.125,
           "rgb(254,232,200)"
          ],
          [
           0.25,
           "rgb(253,212,158)"
          ],
          [
           0.375,
           "rgb(253,187,132)"
          ],
          [
           0.5,
           "rgb(252,141,89)"
          ],
          [
           0.625,
           "rgb(239,101,72)"
          ],
          [
           0.75,
           "rgb(215,48,31)"
          ],
          [
           0.875,
           "rgb(179,0,0)"
          ],
          [
           1,
           "rgb(127,0,0)"
          ]
         ]
        },
        "height": 1000,
        "legend": {
         "tracegroupgap": 0
        },
        "paper_bgcolor": "white",
        "plot_bgcolor": "white",
        "template": {
         "data": {
          "bar": [
           {
            "error_x": {
             "color": "#f2f5fa"
            },
            "error_y": {
             "color": "#f2f5fa"
            },
            "marker": {
             "line": {
              "color": "rgb(17,17,17)",
              "width": 0.5
             },
             "pattern": {
              "fillmode": "overlay",
              "size": 10,
              "solidity": 0.2
             }
            },
            "type": "bar"
           }
          ],
          "barpolar": [
           {
            "marker": {
             "line": {
              "color": "rgb(17,17,17)",
              "width": 0.5
             },
             "pattern": {
              "fillmode": "overlay",
              "size": 10,
              "solidity": 0.2
             }
            },
            "type": "barpolar"
           }
          ],
          "carpet": [
           {
            "aaxis": {
             "endlinecolor": "#A2B1C6",
             "gridcolor": "#506784",
             "linecolor": "#506784",
             "minorgridcolor": "#506784",
             "startlinecolor": "#A2B1C6"
            },
            "baxis": {
             "endlinecolor": "#A2B1C6",
             "gridcolor": "#506784",
             "linecolor": "#506784",
             "minorgridcolor": "#506784",
             "startlinecolor": "#A2B1C6"
            },
            "type": "carpet"
           }
          ],
          "choropleth": [
           {
            "colorbar": {
             "outlinewidth": 0,
             "ticks": ""
            },
            "type": "choropleth"
           }
          ],
          "contour": [
           {
            "colorbar": {
             "outlinewidth": 0,
             "ticks": ""
            },
            "colorscale": [
             [
              0,
              "#0d0887"
             ],
             [
              0.1111111111111111,
              "#46039f"
             ],
             [
              0.2222222222222222,
              "#7201a8"
             ],
             [
              0.3333333333333333,
              "#9c179e"
             ],
             [
              0.4444444444444444,
              "#bd3786"
             ],
             [
              0.5555555555555556,
              "#d8576b"
             ],
             [
              0.6666666666666666,
              "#ed7953"
             ],
             [
              0.7777777777777778,
              "#fb9f3a"
             ],
             [
              0.8888888888888888,
              "#fdca26"
             ],
             [
              1,
              "#f0f921"
             ]
            ],
            "type": "contour"
           }
          ],
          "contourcarpet": [
           {
            "colorbar": {
             "outlinewidth": 0,
             "ticks": ""
            },
            "type": "contourcarpet"
           }
          ],
          "heatmap": [
           {
            "colorbar": {
             "outlinewidth": 0,
             "ticks": ""
            },
            "colorscale": [
             [
              0,
              "#0d0887"
             ],
             [
              0.1111111111111111,
              "#46039f"
             ],
             [
              0.2222222222222222,
              "#7201a8"
             ],
             [
              0.3333333333333333,
              "#9c179e"
             ],
             [
              0.4444444444444444,
              "#bd3786"
             ],
             [
              0.5555555555555556,
              "#d8576b"
             ],
             [
              0.6666666666666666,
              "#ed7953"
             ],
             [
              0.7777777777777778,
              "#fb9f3a"
             ],
             [
              0.8888888888888888,
              "#fdca26"
             ],
             [
              1,
              "#f0f921"
             ]
            ],
            "type": "heatmap"
           }
          ],
          "heatmapgl": [
           {
            "colorbar": {
             "outlinewidth": 0,
             "ticks": ""
            },
            "colorscale": [
             [
              0,
              "#0d0887"
             ],
             [
              0.1111111111111111,
              "#46039f"
             ],
             [
              0.2222222222222222,
              "#7201a8"
             ],
             [
              0.3333333333333333,
              "#9c179e"
             ],
             [
              0.4444444444444444,
              "#bd3786"
             ],
             [
              0.5555555555555556,
              "#d8576b"
             ],
             [
              0.6666666666666666,
              "#ed7953"
             ],
             [
              0.7777777777777778,
              "#fb9f3a"
             ],
             [
              0.8888888888888888,
              "#fdca26"
             ],
             [
              1,
              "#f0f921"
             ]
            ],
            "type": "heatmapgl"
           }
          ],
          "histogram": [
           {
            "marker": {
             "pattern": {
              "fillmode": "overlay",
              "size": 10,
              "solidity": 0.2
             }
            },
            "type": "histogram"
           }
          ],
          "histogram2d": [
           {
            "colorbar": {
             "outlinewidth": 0,
             "ticks": ""
            },
            "colorscale": [
             [
              0,
              "#0d0887"
             ],
             [
              0.1111111111111111,
              "#46039f"
             ],
             [
              0.2222222222222222,
              "#7201a8"
             ],
             [
              0.3333333333333333,
              "#9c179e"
             ],
             [
              0.4444444444444444,
              "#bd3786"
             ],
             [
              0.5555555555555556,
              "#d8576b"
             ],
             [
              0.6666666666666666,
              "#ed7953"
             ],
             [
              0.7777777777777778,
              "#fb9f3a"
             ],
             [
              0.8888888888888888,
              "#fdca26"
             ],
             [
              1,
              "#f0f921"
             ]
            ],
            "type": "histogram2d"
           }
          ],
          "histogram2dcontour": [
           {
            "colorbar": {
             "outlinewidth": 0,
             "ticks": ""
            },
            "colorscale": [
             [
              0,
              "#0d0887"
             ],
             [
              0.1111111111111111,
              "#46039f"
             ],
             [
              0.2222222222222222,
              "#7201a8"
             ],
             [
              0.3333333333333333,
              "#9c179e"
             ],
             [
              0.4444444444444444,
              "#bd3786"
             ],
             [
              0.5555555555555556,
              "#d8576b"
             ],
             [
              0.6666666666666666,
              "#ed7953"
             ],
             [
              0.7777777777777778,
              "#fb9f3a"
             ],
             [
              0.8888888888888888,
              "#fdca26"
             ],
             [
              1,
              "#f0f921"
             ]
            ],
            "type": "histogram2dcontour"
           }
          ],
          "mesh3d": [
           {
            "colorbar": {
             "outlinewidth": 0,
             "ticks": ""
            },
            "type": "mesh3d"
           }
          ],
          "parcoords": [
           {
            "line": {
             "colorbar": {
              "outlinewidth": 0,
              "ticks": ""
             }
            },
            "type": "parcoords"
           }
          ],
          "pie": [
           {
            "automargin": true,
            "type": "pie"
           }
          ],
          "scatter": [
           {
            "marker": {
             "line": {
              "color": "#283442"
             }
            },
            "type": "scatter"
           }
          ],
          "scatter3d": [
           {
            "line": {
             "colorbar": {
              "outlinewidth": 0,
              "ticks": ""
             }
            },
            "marker": {
             "colorbar": {
              "outlinewidth": 0,
              "ticks": ""
             }
            },
            "type": "scatter3d"
           }
          ],
          "scattercarpet": [
           {
            "marker": {
             "colorbar": {
              "outlinewidth": 0,
              "ticks": ""
             }
            },
            "type": "scattercarpet"
           }
          ],
          "scattergeo": [
           {
            "marker": {
             "colorbar": {
              "outlinewidth": 0,
              "ticks": ""
             }
            },
            "type": "scattergeo"
           }
          ],
          "scattergl": [
           {
            "marker": {
             "line": {
              "color": "#283442"
             }
            },
            "type": "scattergl"
           }
          ],
          "scattermapbox": [
           {
            "marker": {
             "colorbar": {
              "outlinewidth": 0,
              "ticks": ""
             }
            },
            "type": "scattermapbox"
           }
          ],
          "scatterpolar": [
           {
            "marker": {
             "colorbar": {
              "outlinewidth": 0,
              "ticks": ""
             }
            },
            "type": "scatterpolar"
           }
          ],
          "scatterpolargl": [
           {
            "marker": {
             "colorbar": {
              "outlinewidth": 0,
              "ticks": ""
             }
            },
            "type": "scatterpolargl"
           }
          ],
          "scatterternary": [
           {
            "marker": {
             "colorbar": {
              "outlinewidth": 0,
              "ticks": ""
             }
            },
            "type": "scatterternary"
           }
          ],
          "surface": [
           {
            "colorbar": {
             "outlinewidth": 0,
             "ticks": ""
            },
            "colorscale": [
             [
              0,
              "#0d0887"
             ],
             [
              0.1111111111111111,
              "#46039f"
             ],
             [
              0.2222222222222222,
              "#7201a8"
             ],
             [
              0.3333333333333333,
              "#9c179e"
             ],
             [
              0.4444444444444444,
              "#bd3786"
             ],
             [
              0.5555555555555556,
              "#d8576b"
             ],
             [
              0.6666666666666666,
              "#ed7953"
             ],
             [
              0.7777777777777778,
              "#fb9f3a"
             ],
             [
              0.8888888888888888,
              "#fdca26"
             ],
             [
              1,
              "#f0f921"
             ]
            ],
            "type": "surface"
           }
          ],
          "table": [
           {
            "cells": {
             "fill": {
              "color": "#506784"
             },
             "line": {
              "color": "rgb(17,17,17)"
             }
            },
            "header": {
             "fill": {
              "color": "#2a3f5f"
             },
             "line": {
              "color": "rgb(17,17,17)"
             }
            },
            "type": "table"
           }
          ]
         },
         "layout": {
          "annotationdefaults": {
           "arrowcolor": "#f2f5fa",
           "arrowhead": 0,
           "arrowwidth": 1
          },
          "autotypenumbers": "strict",
          "coloraxis": {
           "colorbar": {
            "outlinewidth": 0,
            "ticks": ""
           }
          },
          "colorscale": {
           "diverging": [
            [
             0,
             "#8e0152"
            ],
            [
             0.1,
             "#c51b7d"
            ],
            [
             0.2,
             "#de77ae"
            ],
            [
             0.3,
             "#f1b6da"
            ],
            [
             0.4,
             "#fde0ef"
            ],
            [
             0.5,
             "#f7f7f7"
            ],
            [
             0.6,
             "#e6f5d0"
            ],
            [
             0.7,
             "#b8e186"
            ],
            [
             0.8,
             "#7fbc41"
            ],
            [
             0.9,
             "#4d9221"
            ],
            [
             1,
             "#276419"
            ]
           ],
           "sequential": [
            [
             0,
             "#0d0887"
            ],
            [
             0.1111111111111111,
             "#46039f"
            ],
            [
             0.2222222222222222,
             "#7201a8"
            ],
            [
             0.3333333333333333,
             "#9c179e"
            ],
            [
             0.4444444444444444,
             "#bd3786"
            ],
            [
             0.5555555555555556,
             "#d8576b"
            ],
            [
             0.6666666666666666,
             "#ed7953"
            ],
            [
             0.7777777777777778,
             "#fb9f3a"
            ],
            [
             0.8888888888888888,
             "#fdca26"
            ],
            [
             1,
             "#f0f921"
            ]
           ],
           "sequentialminus": [
            [
             0,
             "#0d0887"
            ],
            [
             0.1111111111111111,
             "#46039f"
            ],
            [
             0.2222222222222222,
             "#7201a8"
            ],
            [
             0.3333333333333333,
             "#9c179e"
            ],
            [
             0.4444444444444444,
             "#bd3786"
            ],
            [
             0.5555555555555556,
             "#d8576b"
            ],
            [
             0.6666666666666666,
             "#ed7953"
            ],
            [
             0.7777777777777778,
             "#fb9f3a"
            ],
            [
             0.8888888888888888,
             "#fdca26"
            ],
            [
             1,
             "#f0f921"
            ]
           ]
          },
          "colorway": [
           "#636efa",
           "#EF553B",
           "#00cc96",
           "#ab63fa",
           "#FFA15A",
           "#19d3f3",
           "#FF6692",
           "#B6E880",
           "#FF97FF",
           "#FECB52"
          ],
          "font": {
           "color": "#f2f5fa"
          },
          "geo": {
           "bgcolor": "rgb(17,17,17)",
           "lakecolor": "rgb(17,17,17)",
           "landcolor": "rgb(17,17,17)",
           "showlakes": true,
           "showland": true,
           "subunitcolor": "#506784"
          },
          "hoverlabel": {
           "align": "left"
          },
          "hovermode": "closest",
          "mapbox": {
           "style": "dark"
          },
          "paper_bgcolor": "rgb(17,17,17)",
          "plot_bgcolor": "rgb(17,17,17)",
          "polar": {
           "angularaxis": {
            "gridcolor": "#506784",
            "linecolor": "#506784",
            "ticks": ""
           },
           "bgcolor": "rgb(17,17,17)",
           "radialaxis": {
            "gridcolor": "#506784",
            "linecolor": "#506784",
            "ticks": ""
           }
          },
          "scene": {
           "xaxis": {
            "backgroundcolor": "rgb(17,17,17)",
            "gridcolor": "#506784",
            "gridwidth": 2,
            "linecolor": "#506784",
            "showbackground": true,
            "ticks": "",
            "zerolinecolor": "#C8D4E3"
           },
           "yaxis": {
            "backgroundcolor": "rgb(17,17,17)",
            "gridcolor": "#506784",
            "gridwidth": 2,
            "linecolor": "#506784",
            "showbackground": true,
            "ticks": "",
            "zerolinecolor": "#C8D4E3"
           },
           "zaxis": {
            "backgroundcolor": "rgb(17,17,17)",
            "gridcolor": "#506784",
            "gridwidth": 2,
            "linecolor": "#506784",
            "showbackground": true,
            "ticks": "",
            "zerolinecolor": "#C8D4E3"
           }
          },
          "shapedefaults": {
           "line": {
            "color": "#f2f5fa"
           }
          },
          "sliderdefaults": {
           "bgcolor": "#C8D4E3",
           "bordercolor": "rgb(17,17,17)",
           "borderwidth": 1,
           "tickwidth": 0
          },
          "ternary": {
           "aaxis": {
            "gridcolor": "#506784",
            "linecolor": "#506784",
            "ticks": ""
           },
           "baxis": {
            "gridcolor": "#506784",
            "linecolor": "#506784",
            "ticks": ""
           },
           "bgcolor": "rgb(17,17,17)",
           "caxis": {
            "gridcolor": "#506784",
            "linecolor": "#506784",
            "ticks": ""
           }
          },
          "title": {
           "x": 0.05
          },
          "updatemenudefaults": {
           "bgcolor": "#506784",
           "borderwidth": 0
          },
          "xaxis": {
           "automargin": true,
           "gridcolor": "#283442",
           "linecolor": "#506784",
           "ticks": "",
           "title": {
            "standoff": 15
           },
           "zerolinecolor": "#283442",
           "zerolinewidth": 2
          },
          "yaxis": {
           "automargin": true,
           "gridcolor": "#283442",
           "linecolor": "#506784",
           "ticks": "",
           "title": {
            "standoff": 15
           },
           "zerolinecolor": "#283442",
           "zerolinewidth": 2
          }
         }
        },
        "title": {
         "font": {
          "color": "black",
          "family": "Arial",
          "size": 32,
          "weight": "normal"
         },
         "text": "Salary Ranges by Tech Role",
         "x": 0.5
        },
        "width": 1350,
        "xaxis": {
         "anchor": "y",
         "domain": [
          0,
          1
         ],
         "showgrid": false,
         "ticktext": [],
         "tickvals": [],
         "title": {
          "text": ""
         },
         "zeroline": false
        },
        "yaxis": {
         "anchor": "x",
         "domain": [
          0,
          1
         ],
         "tickfont": {
          "color": "black",
          "family": "Arial",
          "size": 18
         },
         "title": {
          "text": ""
         }
        }
       }
      }
     },
     "metadata": {},
     "output_type": "display_data"
    }
   ],
   "source": [
    "q2 = q2.sort_values(by='median', ascending=True)\n",
    "fig = px.bar(q2,\n",
    "            y='DevType',\n",
    "            x='median',\n",
    "            title='Pangas',\n",
    "            color='median',  \n",
    "            color_continuous_scale='OrRd',\n",
    "            template='plotly_dark',\n",
    "            text='median',\n",
    "            hover_data={'DevType': True, 'median': True, 'min': True, 'max': True, 'count': True}\n",
    "            )  \n",
    "fig.update_traces(textposition='outside', \n",
    "                textfont_size=14, \n",
    "                textfont_color='black',\n",
    "                customdata=q2[['min','max','count']],\n",
    "                hovertemplate=(\n",
    "        '<span style=\"font-size:18px;\"><b>%{y}</b></span>'  \n",
    "        '<br>median : $%{x}<br>'\n",
    "        '      min : $%{customdata[0]:,}<br>' \n",
    "        '     max : $%{customdata[1]:,}<br>'  \n",
    "        '   count : %{customdata[2]}'  \n",
    "    ),\n",
    "                hoverlabel=dict(\n",
    "                    font_size=16,    \n",
    "                    font_family=\"Arial\",\n",
    "                                )\n",
    "                )\n",
    "# Maangas na Layout\n",
    "fig.update_layout(\n",
    "    title={\n",
    "        'text': 'Salary Ranges by Tech Role',\n",
    "        'font_size': 32,  \n",
    "        'font_family': 'Arial',  \n",
    "        'font_color': 'black',  \n",
    "        'font_weight': 'normal'  \n",
    "    },\n",
    "    xaxis_title='',         \n",
    "    yaxis_title='',  \n",
    "    xaxis=dict(\n",
    "        tickvals=[],       \n",
    "        ticktext=[],       \n",
    "        showgrid=False,    \n",
    "        zeroline=False    \n",
    "    ),\n",
    "    yaxis=dict(\n",
    "        tickfont=dict(size=18, color='black', family = 'Arial'),\n",
    "        ),\n",
    "\n",
    "    plot_bgcolor='white', \n",
    "    paper_bgcolor='white', \n",
    "    title_x=0.5,\n",
    "    width=1350,  \n",
    "    height=1000,\n",
    "    coloraxis_colorbar=dict(\n",
    "        tickfont=dict(\n",
    "            size=15,        \n",
    "            color='Black', \n",
    "            family='Arial',\n",
    "            weight = \"normal\"\n",
    "        )\n",
    "\n",
    "    )\n",
    ")"
   ]
  },
  {
   "cell_type": "code",
   "execution_count": 41,
   "metadata": {},
   "outputs": [
    {
     "data": {
      "text/html": [
       "<div>\n",
       "<style scoped>\n",
       "    .dataframe tbody tr th:only-of-type {\n",
       "        vertical-align: middle;\n",
       "    }\n",
       "\n",
       "    .dataframe tbody tr th {\n",
       "        vertical-align: top;\n",
       "    }\n",
       "\n",
       "    .dataframe thead th {\n",
       "        text-align: right;\n",
       "    }\n",
       "</style>\n",
       "<table border=\"1\" class=\"dataframe\">\n",
       "  <thead>\n",
       "    <tr style=\"text-align: right;\">\n",
       "      <th></th>\n",
       "      <th>DevType</th>\n",
       "      <th>median</th>\n",
       "      <th>min</th>\n",
       "      <th>max</th>\n",
       "    </tr>\n",
       "  </thead>\n",
       "  <tbody>\n",
       "    <tr>\n",
       "      <th>22</th>\n",
       "      <td>System Administrator</td>\n",
       "      <td>53703.0</td>\n",
       "      <td>3000.0</td>\n",
       "      <td>166000.0</td>\n",
       "    </tr>\n",
       "    <tr>\n",
       "      <th>10</th>\n",
       "      <td>Front-End Developer</td>\n",
       "      <td>55285.0</td>\n",
       "      <td>2782.0</td>\n",
       "      <td>222929.0</td>\n",
       "    </tr>\n",
       "    <tr>\n",
       "      <th>0</th>\n",
       "      <td>Academic Researcher</td>\n",
       "      <td>55779.5</td>\n",
       "      <td>2957.0</td>\n",
       "      <td>200550.0</td>\n",
       "    </tr>\n",
       "    <tr>\n",
       "      <th>15</th>\n",
       "      <td>Mobile App Developer</td>\n",
       "      <td>59316.0</td>\n",
       "      <td>2725.0</td>\n",
       "      <td>222929.0</td>\n",
       "    </tr>\n",
       "    <tr>\n",
       "      <th>19</th>\n",
       "      <td>QA Engineer</td>\n",
       "      <td>59695.5</td>\n",
       "      <td>2871.0</td>\n",
       "      <td>195000.0</td>\n",
       "    </tr>\n",
       "    <tr>\n",
       "      <th>5</th>\n",
       "      <td>Data Analyst</td>\n",
       "      <td>59936.0</td>\n",
       "      <td>5572.0</td>\n",
       "      <td>200000.0</td>\n",
       "    </tr>\n",
       "    <tr>\n",
       "      <th>12</th>\n",
       "      <td>Game Developer</td>\n",
       "      <td>60000.0</td>\n",
       "      <td>2876.0</td>\n",
       "      <td>220000.0</td>\n",
       "    </tr>\n",
       "    <tr>\n",
       "      <th>20</th>\n",
       "      <td>Sales Professional</td>\n",
       "      <td>60109.0</td>\n",
       "      <td>9274.0</td>\n",
       "      <td>214812.0</td>\n",
       "    </tr>\n",
       "    <tr>\n",
       "      <th>11</th>\n",
       "      <td>Full-Stack Developer</td>\n",
       "      <td>65424.0</td>\n",
       "      <td>2695.0</td>\n",
       "      <td>222834.0</td>\n",
       "    </tr>\n",
       "    <tr>\n",
       "      <th>1</th>\n",
       "      <td>Back-End Developer</td>\n",
       "      <td>69814.0</td>\n",
       "      <td>2700.0</td>\n",
       "      <td>222000.0</td>\n",
       "    </tr>\n",
       "    <tr>\n",
       "      <th>23</th>\n",
       "      <td>UI/UX Designer</td>\n",
       "      <td>70000.0</td>\n",
       "      <td>2782.0</td>\n",
       "      <td>207662.0</td>\n",
       "    </tr>\n",
       "    <tr>\n",
       "      <th>21</th>\n",
       "      <td>Software Engineer</td>\n",
       "      <td>70063.0</td>\n",
       "      <td>2913.0</td>\n",
       "      <td>222834.0</td>\n",
       "    </tr>\n",
       "    <tr>\n",
       "      <th>17</th>\n",
       "      <td>Professional Researcher</td>\n",
       "      <td>73036.0</td>\n",
       "      <td>2991.0</td>\n",
       "      <td>222834.0</td>\n",
       "    </tr>\n",
       "    <tr>\n",
       "      <th>7</th>\n",
       "      <td>Data Science/ML</td>\n",
       "      <td>74394.0</td>\n",
       "      <td>3000.0</td>\n",
       "      <td>215000.0</td>\n",
       "    </tr>\n",
       "    <tr>\n",
       "      <th>9</th>\n",
       "      <td>DevOps Engineer</td>\n",
       "      <td>77000.0</td>\n",
       "      <td>2839.0</td>\n",
       "      <td>215000.0</td>\n",
       "    </tr>\n",
       "    <tr>\n",
       "      <th>6</th>\n",
       "      <td>Data Engineer</td>\n",
       "      <td>77332.0</td>\n",
       "      <td>2700.0</td>\n",
       "      <td>222834.0</td>\n",
       "    </tr>\n",
       "    <tr>\n",
       "      <th>14</th>\n",
       "      <td>ML Engineer</td>\n",
       "      <td>77332.0</td>\n",
       "      <td>3000.0</td>\n",
       "      <td>220000.0</td>\n",
       "    </tr>\n",
       "    <tr>\n",
       "      <th>4</th>\n",
       "      <td>Cyber Security</td>\n",
       "      <td>77869.5</td>\n",
       "      <td>3589.0</td>\n",
       "      <td>221713.0</td>\n",
       "    </tr>\n",
       "    <tr>\n",
       "      <th>16</th>\n",
       "      <td>Others</td>\n",
       "      <td>81307.0</td>\n",
       "      <td>3456.0</td>\n",
       "      <td>220000.0</td>\n",
       "    </tr>\n",
       "    <tr>\n",
       "      <th>2</th>\n",
       "      <td>Blockchain Developer</td>\n",
       "      <td>86163.0</td>\n",
       "      <td>4041.0</td>\n",
       "      <td>215000.0</td>\n",
       "    </tr>\n",
       "    <tr>\n",
       "      <th>8</th>\n",
       "      <td>Databases Administrator</td>\n",
       "      <td>87262.0</td>\n",
       "      <td>2759.0</td>\n",
       "      <td>200000.0</td>\n",
       "    </tr>\n",
       "    <tr>\n",
       "      <th>13</th>\n",
       "      <td>Hardware Engineer</td>\n",
       "      <td>90000.0</td>\n",
       "      <td>3326.0</td>\n",
       "      <td>222834.0</td>\n",
       "    </tr>\n",
       "    <tr>\n",
       "      <th>3</th>\n",
       "      <td>Cloud Engineer</td>\n",
       "      <td>93628.0</td>\n",
       "      <td>3235.0</td>\n",
       "      <td>215000.0</td>\n",
       "    </tr>\n",
       "    <tr>\n",
       "      <th>18</th>\n",
       "      <td>Project Manager</td>\n",
       "      <td>96909.0</td>\n",
       "      <td>2871.0</td>\n",
       "      <td>222500.0</td>\n",
       "    </tr>\n",
       "  </tbody>\n",
       "</table>\n",
       "</div>"
      ],
      "text/plain": [
       "                    DevType   median     min       max\n",
       "22     System Administrator  53703.0  3000.0  166000.0\n",
       "10      Front-End Developer  55285.0  2782.0  222929.0\n",
       "0       Academic Researcher  55779.5  2957.0  200550.0\n",
       "15     Mobile App Developer  59316.0  2725.0  222929.0\n",
       "19              QA Engineer  59695.5  2871.0  195000.0\n",
       "5              Data Analyst  59936.0  5572.0  200000.0\n",
       "12           Game Developer  60000.0  2876.0  220000.0\n",
       "20       Sales Professional  60109.0  9274.0  214812.0\n",
       "11     Full-Stack Developer  65424.0  2695.0  222834.0\n",
       "1        Back-End Developer  69814.0  2700.0  222000.0\n",
       "23           UI/UX Designer  70000.0  2782.0  207662.0\n",
       "21        Software Engineer  70063.0  2913.0  222834.0\n",
       "17  Professional Researcher  73036.0  2991.0  222834.0\n",
       "7           Data Science/ML  74394.0  3000.0  215000.0\n",
       "9           DevOps Engineer  77000.0  2839.0  215000.0\n",
       "6             Data Engineer  77332.0  2700.0  222834.0\n",
       "14              ML Engineer  77332.0  3000.0  220000.0\n",
       "4            Cyber Security  77869.5  3589.0  221713.0\n",
       "16                   Others  81307.0  3456.0  220000.0\n",
       "2      Blockchain Developer  86163.0  4041.0  215000.0\n",
       "8   Databases Administrator  87262.0  2759.0  200000.0\n",
       "13        Hardware Engineer  90000.0  3326.0  222834.0\n",
       "3            Cloud Engineer  93628.0  3235.0  215000.0\n",
       "18          Project Manager  96909.0  2871.0  222500.0"
      ]
     },
     "execution_count": 41,
     "metadata": {},
     "output_type": "execute_result"
    }
   ],
   "source": [
    "tast = q2.loc[:,[\"DevType\",\"median\",\"min\",\"max\"]]\n",
    "tast"
   ]
  },
  {
   "cell_type": "code",
   "execution_count": null,
   "metadata": {},
   "outputs": [],
   "source": []
  }
 ],
 "metadata": {
  "kernelspec": {
   "display_name": "Python 3",
   "language": "python",
   "name": "python3"
  },
  "language_info": {
   "codemirror_mode": {
    "name": "ipython",
    "version": 3
   },
   "file_extension": ".py",
   "mimetype": "text/x-python",
   "name": "python",
   "nbconvert_exporter": "python",
   "pygments_lexer": "ipython3",
   "version": "3.12.2"
  }
 },
 "nbformat": 4,
 "nbformat_minor": 2
}
